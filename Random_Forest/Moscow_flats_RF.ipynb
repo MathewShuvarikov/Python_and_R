{
 "cells": [
  {
   "cell_type": "markdown",
   "id": "747f0473",
   "metadata": {},
   "source": [
    "Moscow flats dataset, I will compare the accuracy of prediction of linear regression and of random forest"
   ]
  },
  {
   "cell_type": "code",
   "execution_count": 1,
   "id": "34b6e1c2",
   "metadata": {},
   "outputs": [],
   "source": [
    "# load necessary libraries\n",
    "import pandas as pd\n",
    "import numpy as np\n",
    "from scipy import stats\n",
    "from sklearn.ensemble import RandomForestRegressor\n",
    "import statsmodels.api as sm\n",
    "import statsmodels.stats.api as sms\n",
    "from statsmodels.regression.linear_model import OLS\n",
    "import matplotlib.pyplot as plt\n",
    "from sklearn.metrics import mean_absolute_percentage_error as mape, r2_score as r2\n",
    "from statsmodels.stats.outliers_influence import variance_inflation_factor"
   ]
  },
  {
   "cell_type": "code",
   "execution_count": 2,
   "id": "08dd7679",
   "metadata": {},
   "outputs": [
    {
     "name": "stdout",
     "output_type": "stream",
     "text": [
      "<class 'pandas.core.frame.DataFrame'>\n",
      "RangeIndex: 2040 entries, 0 to 2039\n",
      "Data columns (total 11 columns):\n",
      " #   Column      Non-Null Count  Dtype  \n",
      "---  ------      --------------  -----  \n",
      " 0   Unnamed: 0  2040 non-null   int64  \n",
      " 1   price       2040 non-null   int64  \n",
      " 2   totsp       2040 non-null   int64  \n",
      " 3   livesp      2040 non-null   int64  \n",
      " 4   kitsp       2040 non-null   float64\n",
      " 5   dist        2040 non-null   float64\n",
      " 6   metrdist    2040 non-null   int64  \n",
      " 7   walk        2040 non-null   int64  \n",
      " 8   brick       2040 non-null   int64  \n",
      " 9   floor       2040 non-null   int64  \n",
      " 10  code        2040 non-null   int64  \n",
      "dtypes: float64(2), int64(9)\n",
      "memory usage: 175.4 KB\n"
     ]
    },
    {
     "data": {
      "text/html": [
       "<div>\n",
       "<style scoped>\n",
       "    .dataframe tbody tr th:only-of-type {\n",
       "        vertical-align: middle;\n",
       "    }\n",
       "\n",
       "    .dataframe tbody tr th {\n",
       "        vertical-align: top;\n",
       "    }\n",
       "\n",
       "    .dataframe thead th {\n",
       "        text-align: right;\n",
       "    }\n",
       "</style>\n",
       "<table border=\"1\" class=\"dataframe\">\n",
       "  <thead>\n",
       "    <tr style=\"text-align: right;\">\n",
       "      <th></th>\n",
       "      <th>Unnamed: 0</th>\n",
       "      <th>price</th>\n",
       "      <th>totsp</th>\n",
       "      <th>livesp</th>\n",
       "      <th>kitsp</th>\n",
       "      <th>dist</th>\n",
       "      <th>metrdist</th>\n",
       "      <th>walk</th>\n",
       "      <th>brick</th>\n",
       "      <th>floor</th>\n",
       "      <th>code</th>\n",
       "    </tr>\n",
       "  </thead>\n",
       "  <tbody>\n",
       "    <tr>\n",
       "      <th>count</th>\n",
       "      <td>2040.000000</td>\n",
       "      <td>2040.000000</td>\n",
       "      <td>2040.000000</td>\n",
       "      <td>2040.000000</td>\n",
       "      <td>2040.000000</td>\n",
       "      <td>2040.000000</td>\n",
       "      <td>2040.000000</td>\n",
       "      <td>2040.000000</td>\n",
       "      <td>2040.000000</td>\n",
       "      <td>2040.000000</td>\n",
       "      <td>2040.000000</td>\n",
       "    </tr>\n",
       "    <tr>\n",
       "      <th>mean</th>\n",
       "      <td>1020.500000</td>\n",
       "      <td>127.496569</td>\n",
       "      <td>73.084314</td>\n",
       "      <td>46.337255</td>\n",
       "      <td>8.898529</td>\n",
       "      <td>11.015686</td>\n",
       "      <td>8.117157</td>\n",
       "      <td>0.685784</td>\n",
       "      <td>0.323039</td>\n",
       "      <td>0.790686</td>\n",
       "      <td>4.322059</td>\n",
       "    </tr>\n",
       "    <tr>\n",
       "      <th>std</th>\n",
       "      <td>589.041594</td>\n",
       "      <td>51.878220</td>\n",
       "      <td>15.123450</td>\n",
       "      <td>7.894348</td>\n",
       "      <td>2.787073</td>\n",
       "      <td>3.375539</td>\n",
       "      <td>3.815574</td>\n",
       "      <td>0.464317</td>\n",
       "      <td>0.467752</td>\n",
       "      <td>0.406918</td>\n",
       "      <td>2.183289</td>\n",
       "    </tr>\n",
       "    <tr>\n",
       "      <th>min</th>\n",
       "      <td>1.000000</td>\n",
       "      <td>50.000000</td>\n",
       "      <td>44.000000</td>\n",
       "      <td>28.000000</td>\n",
       "      <td>5.000000</td>\n",
       "      <td>3.000000</td>\n",
       "      <td>1.000000</td>\n",
       "      <td>0.000000</td>\n",
       "      <td>0.000000</td>\n",
       "      <td>0.000000</td>\n",
       "      <td>1.000000</td>\n",
       "    </tr>\n",
       "    <tr>\n",
       "      <th>25%</th>\n",
       "      <td>510.750000</td>\n",
       "      <td>95.000000</td>\n",
       "      <td>62.000000</td>\n",
       "      <td>42.000000</td>\n",
       "      <td>7.000000</td>\n",
       "      <td>9.000000</td>\n",
       "      <td>5.000000</td>\n",
       "      <td>0.000000</td>\n",
       "      <td>0.000000</td>\n",
       "      <td>1.000000</td>\n",
       "      <td>3.000000</td>\n",
       "    </tr>\n",
       "    <tr>\n",
       "      <th>50%</th>\n",
       "      <td>1020.500000</td>\n",
       "      <td>115.000000</td>\n",
       "      <td>73.500000</td>\n",
       "      <td>45.000000</td>\n",
       "      <td>9.000000</td>\n",
       "      <td>12.000000</td>\n",
       "      <td>7.000000</td>\n",
       "      <td>1.000000</td>\n",
       "      <td>0.000000</td>\n",
       "      <td>1.000000</td>\n",
       "      <td>4.000000</td>\n",
       "    </tr>\n",
       "    <tr>\n",
       "      <th>75%</th>\n",
       "      <td>1530.250000</td>\n",
       "      <td>142.000000</td>\n",
       "      <td>79.000000</td>\n",
       "      <td>50.000000</td>\n",
       "      <td>10.000000</td>\n",
       "      <td>13.500000</td>\n",
       "      <td>10.000000</td>\n",
       "      <td>1.000000</td>\n",
       "      <td>1.000000</td>\n",
       "      <td>1.000000</td>\n",
       "      <td>6.000000</td>\n",
       "    </tr>\n",
       "    <tr>\n",
       "      <th>max</th>\n",
       "      <td>2040.000000</td>\n",
       "      <td>730.000000</td>\n",
       "      <td>192.000000</td>\n",
       "      <td>102.000000</td>\n",
       "      <td>25.000000</td>\n",
       "      <td>17.000000</td>\n",
       "      <td>20.000000</td>\n",
       "      <td>1.000000</td>\n",
       "      <td>1.000000</td>\n",
       "      <td>1.000000</td>\n",
       "      <td>8.000000</td>\n",
       "    </tr>\n",
       "  </tbody>\n",
       "</table>\n",
       "</div>"
      ],
      "text/plain": [
       "        Unnamed: 0        price        totsp       livesp        kitsp  \\\n",
       "count  2040.000000  2040.000000  2040.000000  2040.000000  2040.000000   \n",
       "mean   1020.500000   127.496569    73.084314    46.337255     8.898529   \n",
       "std     589.041594    51.878220    15.123450     7.894348     2.787073   \n",
       "min       1.000000    50.000000    44.000000    28.000000     5.000000   \n",
       "25%     510.750000    95.000000    62.000000    42.000000     7.000000   \n",
       "50%    1020.500000   115.000000    73.500000    45.000000     9.000000   \n",
       "75%    1530.250000   142.000000    79.000000    50.000000    10.000000   \n",
       "max    2040.000000   730.000000   192.000000   102.000000    25.000000   \n",
       "\n",
       "              dist     metrdist         walk        brick        floor  \\\n",
       "count  2040.000000  2040.000000  2040.000000  2040.000000  2040.000000   \n",
       "mean     11.015686     8.117157     0.685784     0.323039     0.790686   \n",
       "std       3.375539     3.815574     0.464317     0.467752     0.406918   \n",
       "min       3.000000     1.000000     0.000000     0.000000     0.000000   \n",
       "25%       9.000000     5.000000     0.000000     0.000000     1.000000   \n",
       "50%      12.000000     7.000000     1.000000     0.000000     1.000000   \n",
       "75%      13.500000    10.000000     1.000000     1.000000     1.000000   \n",
       "max      17.000000    20.000000     1.000000     1.000000     1.000000   \n",
       "\n",
       "              code  \n",
       "count  2040.000000  \n",
       "mean      4.322059  \n",
       "std       2.183289  \n",
       "min       1.000000  \n",
       "25%       3.000000  \n",
       "50%       4.000000  \n",
       "75%       6.000000  \n",
       "max       8.000000  "
      ]
     },
     "execution_count": 2,
     "metadata": {},
     "output_type": "execute_result"
    }
   ],
   "source": [
    "# download data\n",
    "df = pd.read_csv(r\"C:\\Users\\shuva\\Downloads\\df\\df\\flats_moscow.csv\")\n",
    "df.info()\n",
    "df.describe()"
   ]
  },
  {
   "cell_type": "markdown",
   "id": "640c36ac",
   "metadata": {},
   "source": [
    "There are no nans; \n",
    "Price - price of the flat in thousand US Dollars, totsp - square of flat in sq meters, livesp - living space in sq meters, kitsp - kitchen space in sq meters, dist - distance to city center in km, metrdist - distance to nearest metro station in min, walk - can we walk to metro? 1 or 0 , brick - 0 or 1, floor - 1 (if not the first of the last) or 0 - otherwise."
   ]
  },
  {
   "cell_type": "code",
   "execution_count": 3,
   "id": "1481fd6e",
   "metadata": {},
   "outputs": [],
   "source": [
    "# drop unnecessary column\n",
    "df = df.drop(columns='Unnamed: 0')"
   ]
  },
  {
   "cell_type": "code",
   "execution_count": 4,
   "id": "d81d0168",
   "metadata": {},
   "outputs": [],
   "source": [
    "# divide data into test and train sample\n",
    "train = df.sample(frac=0.8, random_state=0)\n",
    "test = df.drop(train.index)"
   ]
  },
  {
   "cell_type": "code",
   "execution_count": 5,
   "id": "c2a90e93",
   "metadata": {},
   "outputs": [
    {
     "data": {
      "text/html": [
       "<div>\n",
       "<style scoped>\n",
       "    .dataframe tbody tr th:only-of-type {\n",
       "        vertical-align: middle;\n",
       "    }\n",
       "\n",
       "    .dataframe tbody tr th {\n",
       "        vertical-align: top;\n",
       "    }\n",
       "\n",
       "    .dataframe thead th {\n",
       "        text-align: right;\n",
       "    }\n",
       "</style>\n",
       "<table border=\"1\" class=\"dataframe\">\n",
       "  <thead>\n",
       "    <tr style=\"text-align: right;\">\n",
       "      <th></th>\n",
       "      <th>price</th>\n",
       "      <th>totsp</th>\n",
       "      <th>livesp</th>\n",
       "      <th>kitsp</th>\n",
       "      <th>dist</th>\n",
       "      <th>metrdist</th>\n",
       "      <th>walk</th>\n",
       "      <th>brick</th>\n",
       "      <th>floor</th>\n",
       "      <th>code</th>\n",
       "    </tr>\n",
       "  </thead>\n",
       "  <tbody>\n",
       "    <tr>\n",
       "      <th>price</th>\n",
       "      <td>1.00</td>\n",
       "      <td>0.76</td>\n",
       "      <td>0.73</td>\n",
       "      <td>0.60</td>\n",
       "      <td>-0.33</td>\n",
       "      <td>-0.14</td>\n",
       "      <td>0.14</td>\n",
       "      <td>0.25</td>\n",
       "      <td>0.14</td>\n",
       "      <td>-0.09</td>\n",
       "    </tr>\n",
       "    <tr>\n",
       "      <th>totsp</th>\n",
       "      <td>0.76</td>\n",
       "      <td>1.00</td>\n",
       "      <td>0.87</td>\n",
       "      <td>0.79</td>\n",
       "      <td>-0.12</td>\n",
       "      <td>-0.03</td>\n",
       "      <td>0.02</td>\n",
       "      <td>0.10</td>\n",
       "      <td>0.12</td>\n",
       "      <td>-0.03</td>\n",
       "    </tr>\n",
       "    <tr>\n",
       "      <th>livesp</th>\n",
       "      <td>0.73</td>\n",
       "      <td>0.87</td>\n",
       "      <td>1.00</td>\n",
       "      <td>0.58</td>\n",
       "      <td>-0.20</td>\n",
       "      <td>-0.04</td>\n",
       "      <td>0.06</td>\n",
       "      <td>0.24</td>\n",
       "      <td>0.10</td>\n",
       "      <td>-0.01</td>\n",
       "    </tr>\n",
       "    <tr>\n",
       "      <th>kitsp</th>\n",
       "      <td>0.60</td>\n",
       "      <td>0.79</td>\n",
       "      <td>0.58</td>\n",
       "      <td>1.00</td>\n",
       "      <td>-0.07</td>\n",
       "      <td>-0.01</td>\n",
       "      <td>-0.00</td>\n",
       "      <td>-0.04</td>\n",
       "      <td>0.12</td>\n",
       "      <td>-0.05</td>\n",
       "    </tr>\n",
       "    <tr>\n",
       "      <th>dist</th>\n",
       "      <td>-0.33</td>\n",
       "      <td>-0.12</td>\n",
       "      <td>-0.20</td>\n",
       "      <td>-0.07</td>\n",
       "      <td>1.00</td>\n",
       "      <td>0.11</td>\n",
       "      <td>-0.17</td>\n",
       "      <td>-0.39</td>\n",
       "      <td>0.02</td>\n",
       "      <td>-0.19</td>\n",
       "    </tr>\n",
       "    <tr>\n",
       "      <th>metrdist</th>\n",
       "      <td>-0.14</td>\n",
       "      <td>-0.03</td>\n",
       "      <td>-0.04</td>\n",
       "      <td>-0.01</td>\n",
       "      <td>0.11</td>\n",
       "      <td>1.00</td>\n",
       "      <td>-0.03</td>\n",
       "      <td>-0.06</td>\n",
       "      <td>-0.02</td>\n",
       "      <td>-0.01</td>\n",
       "    </tr>\n",
       "    <tr>\n",
       "      <th>walk</th>\n",
       "      <td>0.14</td>\n",
       "      <td>0.02</td>\n",
       "      <td>0.06</td>\n",
       "      <td>-0.00</td>\n",
       "      <td>-0.17</td>\n",
       "      <td>-0.03</td>\n",
       "      <td>1.00</td>\n",
       "      <td>0.15</td>\n",
       "      <td>-0.03</td>\n",
       "      <td>-0.03</td>\n",
       "    </tr>\n",
       "    <tr>\n",
       "      <th>brick</th>\n",
       "      <td>0.25</td>\n",
       "      <td>0.10</td>\n",
       "      <td>0.24</td>\n",
       "      <td>-0.04</td>\n",
       "      <td>-0.39</td>\n",
       "      <td>-0.06</td>\n",
       "      <td>0.15</td>\n",
       "      <td>1.00</td>\n",
       "      <td>-0.04</td>\n",
       "      <td>0.03</td>\n",
       "    </tr>\n",
       "    <tr>\n",
       "      <th>floor</th>\n",
       "      <td>0.14</td>\n",
       "      <td>0.12</td>\n",
       "      <td>0.10</td>\n",
       "      <td>0.12</td>\n",
       "      <td>0.02</td>\n",
       "      <td>-0.02</td>\n",
       "      <td>-0.03</td>\n",
       "      <td>-0.04</td>\n",
       "      <td>1.00</td>\n",
       "      <td>-0.06</td>\n",
       "    </tr>\n",
       "    <tr>\n",
       "      <th>code</th>\n",
       "      <td>-0.09</td>\n",
       "      <td>-0.03</td>\n",
       "      <td>-0.01</td>\n",
       "      <td>-0.05</td>\n",
       "      <td>-0.19</td>\n",
       "      <td>-0.01</td>\n",
       "      <td>-0.03</td>\n",
       "      <td>0.03</td>\n",
       "      <td>-0.06</td>\n",
       "      <td>1.00</td>\n",
       "    </tr>\n",
       "  </tbody>\n",
       "</table>\n",
       "</div>"
      ],
      "text/plain": [
       "          price  totsp  livesp  kitsp  dist  metrdist  walk  brick  floor  \\\n",
       "price      1.00   0.76    0.73   0.60 -0.33     -0.14  0.14   0.25   0.14   \n",
       "totsp      0.76   1.00    0.87   0.79 -0.12     -0.03  0.02   0.10   0.12   \n",
       "livesp     0.73   0.87    1.00   0.58 -0.20     -0.04  0.06   0.24   0.10   \n",
       "kitsp      0.60   0.79    0.58   1.00 -0.07     -0.01 -0.00  -0.04   0.12   \n",
       "dist      -0.33  -0.12   -0.20  -0.07  1.00      0.11 -0.17  -0.39   0.02   \n",
       "metrdist  -0.14  -0.03   -0.04  -0.01  0.11      1.00 -0.03  -0.06  -0.02   \n",
       "walk       0.14   0.02    0.06  -0.00 -0.17     -0.03  1.00   0.15  -0.03   \n",
       "brick      0.25   0.10    0.24  -0.04 -0.39     -0.06  0.15   1.00  -0.04   \n",
       "floor      0.14   0.12    0.10   0.12  0.02     -0.02 -0.03  -0.04   1.00   \n",
       "code      -0.09  -0.03   -0.01  -0.05 -0.19     -0.01 -0.03   0.03  -0.06   \n",
       "\n",
       "          code  \n",
       "price    -0.09  \n",
       "totsp    -0.03  \n",
       "livesp   -0.01  \n",
       "kitsp    -0.05  \n",
       "dist     -0.19  \n",
       "metrdist -0.01  \n",
       "walk     -0.03  \n",
       "brick     0.03  \n",
       "floor    -0.06  \n",
       "code      1.00  "
      ]
     },
     "execution_count": 5,
     "metadata": {},
     "output_type": "execute_result"
    }
   ],
   "source": [
    "# let's look at linear correlations between variables\n",
    "round(train.corr(),2)"
   ]
  },
  {
   "cell_type": "markdown",
   "id": "c39de0f1",
   "metadata": {},
   "source": [
    "There are strong correlations between price and totsp and price livesp  \n",
    "Let's build scatter plots"
   ]
  },
  {
   "cell_type": "code",
   "execution_count": 6,
   "id": "2e268430",
   "metadata": {},
   "outputs": [
    {
     "data": {
      "image/png": "[encoded data removed]",
      "text/plain": [
       "<Figure size 640x480 with 1 Axes>"
      ]
     },
     "metadata": {},
     "output_type": "display_data"
    }
   ],
   "source": [
    "# scatter plot, totsp - blue\n",
    "plt.scatter(x=train.totsp, y=train.price)\n",
    "plt.title(\"price\")\n",
    "plt.xlabel(\"totsp\")\n",
    "plt.show()"
   ]
  },
  {
   "cell_type": "markdown",
   "id": "fdd88295",
   "metadata": {},
   "source": [
    "We better use natural log of price, and that of totsp and of livesp"
   ]
  },
  {
   "cell_type": "code",
   "execution_count": 7,
   "id": "920f9074",
   "metadata": {},
   "outputs": [
    {
     "data": {
      "image/png": "[encoded data removed]",
      "text/plain": [
       "<Figure size 640x480 with 1 Axes>"
      ]
     },
     "metadata": {},
     "output_type": "display_data"
    }
   ],
   "source": [
    "# scatter plot, totsp - blue, livesp - orange\n",
    "# it looks much better than previous one\n",
    "plt.scatter(x=np.log(train.totsp), y=np.log(train.price))\n",
    "plt.title(\"ln(price)\")\n",
    "plt.xlabel(\"totsp\")\n",
    "plt.show()"
   ]
  },
  {
   "cell_type": "markdown",
   "id": "d5d38963",
   "metadata": {},
   "source": [
    "I will use log(price) in upcoming modeling"
   ]
  },
  {
   "cell_type": "code",
   "execution_count": 8,
   "id": "99df7bc5",
   "metadata": {},
   "outputs": [],
   "source": [
    "# divide data into dependent and independent variables\n",
    "y = np.log(train.loc[:,'price']).copy()\n",
    "x = train.loc[:,df.columns != 'price'].copy()\n",
    "x_test = test.loc[:,df.columns != 'price'].copy()\n",
    "y_test = test.loc[:,'price'].copy()"
   ]
  },
  {
   "cell_type": "code",
   "execution_count": 9,
   "id": "e1071dd6",
   "metadata": {},
   "outputs": [],
   "source": [
    "# log manipulations with data\n",
    "x['totsp'] = np.log(x['totsp'])\n",
    "x['livesp'] = np.log(x['livesp'])\n",
    "x_test['totsp'] = np.log(x_test['totsp'])\n",
    "x_test['livesp'] = np.log(x_test['livesp'])"
   ]
  },
  {
   "cell_type": "code",
   "execution_count": 10,
   "id": "f093e80f",
   "metadata": {},
   "outputs": [],
   "source": [
    "# Instantiate model with 100 decision trees\n",
    "rf = RandomForestRegressor(random_state = 42)"
   ]
  },
  {
   "cell_type": "code",
   "execution_count": 11,
   "id": "cb00b5ff",
   "metadata": {},
   "outputs": [
    {
     "data": {
      "text/html": [
       "<style>#sk-container-id-1 {color: black;}#sk-container-id-1 pre{padding: 0;}#sk-container-id-1 div.sk-toggleable {background-color: white;}#sk-container-id-1 label.sk-toggleable__label {cursor: pointer;display: block;width: 100%;margin-bottom: 0;padding: 0.3em;box-sizing: border-box;text-align: center;}#sk-container-id-1 label.sk-toggleable__label-arrow:before {content: \"▸\";float: left;margin-right: 0.25em;color: #696969;}#sk-container-id-1 label.sk-toggleable__label-arrow:hover:before {color: black;}#sk-container-id-1 div.sk-estimator:hover label.sk-toggleable__label-arrow:before {color: black;}#sk-container-id-1 div.sk-toggleable__content {max-height: 0;max-width: 0;overflow: hidden;text-align: left;background-color: #f0f8ff;}#sk-container-id-1 div.sk-toggleable__content pre {margin: 0.2em;color: black;border-radius: 0.25em;background-color: #f0f8ff;}#sk-container-id-1 input.sk-toggleable__control:checked~div.sk-toggleable__content {max-height: 200px;max-width: 100%;overflow: auto;}#sk-container-id-1 input.sk-toggleable__control:checked~label.sk-toggleable__label-arrow:before {content: \"▾\";}#sk-container-id-1 div.sk-estimator input.sk-toggleable__control:checked~label.sk-toggleable__label {background-color: #d4ebff;}#sk-container-id-1 div.sk-label input.sk-toggleable__control:checked~label.sk-toggleable__label {background-color: #d4ebff;}#sk-container-id-1 input.sk-hidden--visually {border: 0;clip: rect(1px 1px 1px 1px);clip: rect(1px, 1px, 1px, 1px);height: 1px;margin: -1px;overflow: hidden;padding: 0;position: absolute;width: 1px;}#sk-container-id-1 div.sk-estimator {font-family: monospace;background-color: #f0f8ff;border: 1px dotted black;border-radius: 0.25em;box-sizing: border-box;margin-bottom: 0.5em;}#sk-container-id-1 div.sk-estimator:hover {background-color: #d4ebff;}#sk-container-id-1 div.sk-parallel-item::after {content: \"\";width: 100%;border-bottom: 1px solid gray;flex-grow: 1;}#sk-container-id-1 div.sk-label:hover label.sk-toggleable__label {background-color: #d4ebff;}#sk-container-id-1 div.sk-serial::before {content: \"\";position: absolute;border-left: 1px solid gray;box-sizing: border-box;top: 0;bottom: 0;left: 50%;z-index: 0;}#sk-container-id-1 div.sk-serial {display: flex;flex-direction: column;align-items: center;background-color: white;padding-right: 0.2em;padding-left: 0.2em;position: relative;}#sk-container-id-1 div.sk-item {position: relative;z-index: 1;}#sk-container-id-1 div.sk-parallel {display: flex;align-items: stretch;justify-content: center;background-color: white;position: relative;}#sk-container-id-1 div.sk-item::before, #sk-container-id-1 div.sk-parallel-item::before {content: \"\";position: absolute;border-left: 1px solid gray;box-sizing: border-box;top: 0;bottom: 0;left: 50%;z-index: -1;}#sk-container-id-1 div.sk-parallel-item {display: flex;flex-direction: column;z-index: 1;position: relative;background-color: white;}#sk-container-id-1 div.sk-parallel-item:first-child::after {align-self: flex-end;width: 50%;}#sk-container-id-1 div.sk-parallel-item:last-child::after {align-self: flex-start;width: 50%;}#sk-container-id-1 div.sk-parallel-item:only-child::after {width: 0;}#sk-container-id-1 div.sk-dashed-wrapped {border: 1px dashed gray;margin: 0 0.4em 0.5em 0.4em;box-sizing: border-box;padding-bottom: 0.4em;background-color: white;}#sk-container-id-1 div.sk-label label {font-family: monospace;font-weight: bold;display: inline-block;line-height: 1.2em;}#sk-container-id-1 div.sk-label-container {text-align: center;}#sk-container-id-1 div.sk-container {/* jupyter's `normalize.less` sets `[hidden] { display: none; }` but bootstrap.min.css set `[hidden] { display: none !important; }` so we also need the `!important` here to be able to override the default hidden behavior on the sphinx rendered scikit-learn.org. See: https://github.com/scikit-learn/scikit-learn/issues/21755 */display: inline-block !important;position: relative;}#sk-container-id-1 div.sk-text-repr-fallback {display: none;}</style><div id=\"sk-container-id-1\" class=\"sk-top-container\"><div class=\"sk-text-repr-fallback\"><pre>RandomForestRegressor(random_state=42)</pre><b>In a Jupyter environment, please rerun this cell to show the HTML representation or trust the notebook. <br />On GitHub, the HTML representation is unable to render, please try loading this page with nbviewer.org.</b></div><div class=\"sk-container\" hidden><div class=\"sk-item\"><div class=\"sk-estimator sk-toggleable\"><input class=\"sk-toggleable__control sk-hidden--visually\" id=\"sk-estimator-id-1\" type=\"checkbox\" checked><label for=\"sk-estimator-id-1\" class=\"sk-toggleable__label sk-toggleable__label-arrow\">RandomForestRegressor</label><div class=\"sk-toggleable__content\"><pre>RandomForestRegressor(random_state=42)</pre></div></div></div></div></div>"
      ],
      "text/plain": [
       "RandomForestRegressor(random_state=42)"
      ]
     },
     "execution_count": 11,
     "metadata": {},
     "output_type": "execute_result"
    }
   ],
   "source": [
    "# Train the model on training data\n",
    "rf.fit(x, y)"
   ]
  },
  {
   "cell_type": "code",
   "execution_count": 12,
   "id": "99ae3533",
   "metadata": {},
   "outputs": [],
   "source": [
    "# predict on test sample\n",
    "predict_rf = np.exp(rf.predict(x_test))"
   ]
  },
  {
   "cell_type": "code",
   "execution_count": 13,
   "id": "1c705e1a",
   "metadata": {},
   "outputs": [
    {
     "name": "stdout",
     "output_type": "stream",
     "text": [
      "                            OLS Regression Results                            \n",
      "==============================================================================\n",
      "Dep. Variable:                  price   R-squared:                       0.747\n",
      "Model:                            OLS   Adj. R-squared:                  0.746\n",
      "Method:                 Least Squares   F-statistic:                     533.0\n",
      "Date:                Fri, 10 Nov 2023   Prob (F-statistic):               0.00\n",
      "Time:                        17:18:38   Log-Likelihood:                 674.59\n",
      "No. Observations:                1632   AIC:                            -1329.\n",
      "Df Residuals:                    1622   BIC:                            -1275.\n",
      "Df Model:                           9                                         \n",
      "Covariance Type:            nonrobust                                         \n",
      "==============================================================================\n",
      "                 coef    std err          t      P>|t|      [0.025      0.975]\n",
      "------------------------------------------------------------------------------\n",
      "const          0.4138      0.135      3.056      0.002       0.148       0.679\n",
      "totsp          0.9462      0.057     16.518      0.000       0.834       1.059\n",
      "livesp         0.1288      0.053      2.432      0.015       0.025       0.233\n",
      "kitsp          0.0143      0.002      5.745      0.000       0.009       0.019\n",
      "dist          -0.0228      0.001    -17.162      0.000      -0.025      -0.020\n",
      "metrdist      -0.0082      0.001     -7.806      0.000      -0.010      -0.006\n",
      "walk           0.0653      0.009      7.379      0.000       0.048       0.083\n",
      "brick          0.0657      0.010      6.748      0.000       0.047       0.085\n",
      "floor          0.0539      0.010      5.422      0.000       0.034       0.073\n",
      "code          -0.0179      0.002     -9.580      0.000      -0.022      -0.014\n",
      "==============================================================================\n",
      "Omnibus:                      198.472   Durbin-Watson:                   2.067\n",
      "Prob(Omnibus):                  0.000   Jarque-Bera (JB):              911.934\n",
      "Skew:                           0.488   Prob(JB):                    9.46e-199\n",
      "Kurtosis:                       6.530   Cond. No.                         635.\n",
      "==============================================================================\n",
      "\n",
      "Notes:\n",
      "[1] Standard Errors assume that the covariance matrix of the errors is correctly specified.\n"
     ]
    }
   ],
   "source": [
    "# regression model\n",
    "x = sm.add_constant(x) # no need for constant since it's not significant\n",
    "regr = OLS(y,x).fit()\n",
    "print(regr.summary())"
   ]
  },
  {
   "cell_type": "code",
   "execution_count": 14,
   "id": "c65ea4a2-d7e9-4404-94a7-d433e723a38c",
   "metadata": {
    "tags": []
   },
   "outputs": [
    {
     "name": "stdout",
     "output_type": "stream",
     "text": [
      "    feature          VIF\n",
      "0     totsp  2833.431148\n",
      "1    livesp  2568.126562\n",
      "2     kitsp    19.797861\n",
      "3      dist    14.400553\n",
      "4  metrdist     5.581570\n",
      "5      walk     3.439190\n",
      "6     brick     1.871179\n",
      "7     floor     4.974420\n",
      "8      code     5.128714\n"
     ]
    }
   ],
   "source": [
    "## Checking for multicollinarity\n",
    "# VIF dataframe\n",
    "vif_data = pd.DataFrame()\n",
    "vif_data[\"feature\"] = x.drop(columns='const').columns\n",
    "  \n",
    "# calculating VIF for each feature\n",
    "vif_data[\"VIF\"] = [variance_inflation_factor(x.drop(columns='const').values, i)\n",
    "                          for i in range(len(x.drop(columns='const').columns))]\n",
    "  \n",
    "print(vif_data)"
   ]
  },
  {
   "cell_type": "markdown",
   "id": "872aba20-cab2-4ec6-b823-842c1c54c7de",
   "metadata": {},
   "source": [
    "Regularization, since we do have a strong multicollinearity"
   ]
  },
  {
   "cell_type": "code",
   "execution_count": 15,
   "id": "f9792d13-f70e-4392-b416-83de581903e7",
   "metadata": {
    "tags": []
   },
   "outputs": [
    {
     "data": {
      "text/plain": [
       "const       4.562726\n",
       "totsp       0.058863\n",
       "livesp     -0.007083\n",
       "kitsp       0.061769\n",
       "dist       -0.034360\n",
       "metrdist   -0.011773\n",
       "walk        0.028376\n",
       "brick       0.084469\n",
       "floor       0.025387\n",
       "code       -0.029964\n",
       "dtype: float64"
      ]
     },
     "execution_count": 15,
     "metadata": {},
     "output_type": "execute_result"
    }
   ],
   "source": [
    "regul = OLS(y,x).fit_regularized(alpha=0)\n",
    "regul.params"
   ]
  },
  {
   "cell_type": "code",
   "execution_count": 16,
   "id": "13e96179",
   "metadata": {},
   "outputs": [],
   "source": [
    "# regression prediction\n",
    "x_test = sm.add_constant(x_test)\n",
    "predict_regr = np.exp(regul.predict(x_test))"
   ]
  },
  {
   "cell_type": "code",
   "execution_count": 17,
   "id": "bdc36269",
   "metadata": {},
   "outputs": [
    {
     "name": "stdout",
     "output_type": "stream",
     "text": [
      "regression prediction error:  0.1510270811750826\n",
      "random forest prediction error:  0.09663623344995835\n"
     ]
    }
   ],
   "source": [
    "# calculate errors\n",
    "print('regression prediction error: ', mape(y_test, predict_regr))\n",
    "print('random forest prediction error: ', mape(y_test, predict_rf))"
   ]
  },
  {
   "cell_type": "markdown",
   "id": "44f35b64",
   "metadata": {},
   "source": [
    "Random forest prediction shows more accuracy than that of regression, however both metrics are lower than 16%, thus both models can be applied, but random forest are generally better than regression in this particular case"
   ]
  }
 ],
 "metadata": {
  "kernelspec": {
   "display_name": "Python 3 (ipykernel)",
   "language": "python",
   "name": "python3"
  },
  "language_info": {
   "codemirror_mode": {
    "name": "ipython",
    "version": 3
   },
   "file_extension": ".py",
   "mimetype": "text/x-python",
   "name": "python",
   "nbconvert_exporter": "python",
   "pygments_lexer": "ipython3",
   "version": "3.10.9"
  }
 },
 "nbformat": 4,
 "nbformat_minor": 5
}
