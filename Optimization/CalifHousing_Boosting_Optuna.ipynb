{
 "cells": [
  {
   "cell_type": "code",
   "execution_count": 1,
   "id": "496e39b8-52f1-40a7-a4dc-655049bc527f",
   "metadata": {
    "tags": []
   },
   "outputs": [],
   "source": [
    "import pandas as pd\n",
    "import numpy as np\n",
    "from sklearn.model_selection import train_test_split, cross_val_score\n",
    "import catboost as cb\n",
    "import xgboost as xgb\n",
    "from sklearn.metrics import mean_squared_error, mean_absolute_percentage_error\n",
    "import optuna\n",
    "from sklearn.preprocessing import LabelEncoder\n",
    "from sklearn.impute import KNNImputer\n",
    "import statsmodels.api as sm\n",
    "from statsmodels.stats.outliers_influence import variance_inflation_factor"
   ]
  },
  {
   "cell_type": "code",
   "execution_count": 2,
   "id": "064008a3-7325-4faa-8955-bb7fa882deb9",
   "metadata": {
    "tags": []
   },
   "outputs": [
    {
     "name": "stdout",
     "output_type": "stream",
     "text": [
      "<class 'pandas.core.frame.DataFrame'>\n",
      "RangeIndex: 20640 entries, 0 to 20639\n",
      "Data columns (total 10 columns):\n",
      " #   Column              Non-Null Count  Dtype  \n",
      "---  ------              --------------  -----  \n",
      " 0   longitude           20640 non-null  float64\n",
      " 1   latitude            20640 non-null  float64\n",
      " 2   housing_median_age  20640 non-null  float64\n",
      " 3   total_rooms         20640 non-null  float64\n",
      " 4   total_bedrooms      20433 non-null  float64\n",
      " 5   population          20640 non-null  float64\n",
      " 6   households          20640 non-null  float64\n",
      " 7   median_income       20640 non-null  float64\n",
      " 8   median_house_value  20640 non-null  float64\n",
      " 9   ocean_proximity     20640 non-null  object \n",
      "dtypes: float64(9), object(1)\n",
      "memory usage: 1.6+ MB\n"
     ]
    }
   ],
   "source": [
    "# load data\n",
    "df = pd.read_csv('/Users/shuva/Downloads/df/df/CA_housing.csv')\n",
    "df.info()"
   ]
  },
  {
   "cell_type": "code",
   "execution_count": 3,
   "id": "c2beb15b-fa5a-497e-ae82-320135707dbf",
   "metadata": {
    "tags": []
   },
   "outputs": [],
   "source": [
    "# Encode categorical values\n",
    "le = LabelEncoder()\n",
    "df['ocean_proximity'] = le.fit_transform(df['ocean_proximity'])\n",
    "\n",
    "# Dealing with Nans\n",
    "cols = df.columns\n",
    "df = pd.DataFrame(KNNImputer(n_neighbors=5, ).fit_transform(df))\n",
    "df.columns = cols"
   ]
  },
  {
   "cell_type": "code",
   "execution_count": 4,
   "id": "44dba714-71ac-4fd3-b3ae-ee30bc171da5",
   "metadata": {
    "tags": []
   },
   "outputs": [],
   "source": [
    "# train and test sample\n",
    "X = df.drop(\"median_house_value\", axis=1)\n",
    "y = np.log(df[\"median_house_value\"])\n",
    "\n",
    "X_train, X_val, y_train, y_val = train_test_split(X, y, test_size=0.2, random_state=42)"
   ]
  },
  {
   "cell_type": "markdown",
   "id": "28db920d-dea0-4685-9674-c0a10c81fb08",
   "metadata": {},
   "source": [
    "Optuna Optimization"
   ]
  },
  {
   "cell_type": "code",
   "execution_count": 5,
   "id": "75d974ac-8582-4f0c-b01f-63f32323c6da",
   "metadata": {
    "tags": []
   },
   "outputs": [],
   "source": [
    "def objective(trial):\n",
    "    params = {\n",
    "        \"n_estimators\": trial.suggest_int(\"n_estimators\", 50, 1000),\n",
    "        \"max_depth\": trial.suggest_int(\"max_depth\", 1, 15),\n",
    "        'random_state': 0\n",
    "    }\n",
    "\n",
    "    model = xgb.XGBRegressor(**params, )\n",
    "    return cross_val_score(model, X_train, y_train, cv=5, scoring='neg_root_mean_squared_error').mean()"
   ]
  },
  {
   "cell_type": "code",
   "execution_count": 6,
   "id": "c15668f9-a7e4-42d1-bf4c-fa013f3887bf",
   "metadata": {
    "tags": []
   },
   "outputs": [
    {
     "name": "stderr",
     "output_type": "stream",
     "text": [
      "[I 2023-11-10 15:42:50,795] A new study created in memory with name: no-name-1e2432ac-fa4d-4e53-958a-57a9f6079ef5\n"
     ]
    },
    {
     "data": {
      "application/vnd.jupyter.widget-view+json": {
       "model_id": "8d150e263d3743059064619def2ae655",
       "version_major": 2,
       "version_minor": 0
      },
      "text/plain": [
       "  0%|          | 0/30 [00:00<?, ?it/s]"
      ]
     },
     "metadata": {},
     "output_type": "display_data"
    },
    {
     "name": "stdout",
     "output_type": "stream",
     "text": [
      "[I 2023-11-10 15:43:33,150] Trial 0 finished with value: -0.2290322709122385 and parameters: {'n_estimators': 223, 'max_depth': 4}. Best is trial 0 with value: -0.2290322709122385.\n",
      "[I 2023-11-10 15:43:44,805] Trial 1 finished with value: -0.26997883763378333 and parameters: {'n_estimators': 971, 'max_depth': 1}. Best is trial 0 with value: -0.2290322709122385.\n",
      "[I 2023-11-10 15:44:13,859] Trial 8 finished with value: -0.23696070816728682 and parameters: {'n_estimators': 875, 'max_depth': 2}. Best is trial 0 with value: -0.2290322709122385.\n",
      "[I 2023-11-10 15:44:47,658] Trial 12 finished with value: -0.231004509548037 and parameters: {'n_estimators': 162, 'max_depth': 4}. Best is trial 0 with value: -0.2290322709122385.\n",
      "[I 2023-11-10 15:45:47,664] Trial 3 finished with value: -0.23519954138492025 and parameters: {'n_estimators': 291, 'max_depth': 13}. Best is trial 0 with value: -0.2290322709122385.\n",
      "[I 2023-11-10 15:45:59,253] Trial 6 finished with value: -0.2278000496389106 and parameters: {'n_estimators': 539, 'max_depth': 6}. Best is trial 6 with value: -0.2278000496389106.\n",
      "[I 2023-11-10 15:46:07,686] Trial 14 finished with value: -0.2801442635527817 and parameters: {'n_estimators': 326, 'max_depth': 1}. Best is trial 6 with value: -0.2278000496389106.\n",
      "[I 2023-11-10 15:46:11,118] Trial 13 finished with value: -0.22706220891940063 and parameters: {'n_estimators': 299, 'max_depth': 5}. Best is trial 13 with value: -0.22706220891940063.\n",
      "[I 2023-11-10 15:46:36,393] Trial 2 finished with value: -0.226781309634526 and parameters: {'n_estimators': 444, 'max_depth': 8}. Best is trial 2 with value: -0.226781309634526.\n",
      "[I 2023-11-10 15:47:17,113] Trial 5 finished with value: -0.23212790610379958 and parameters: {'n_estimators': 975, 'max_depth': 11}. Best is trial 2 with value: -0.226781309634526.\n",
      "[I 2023-11-10 15:47:30,745] Trial 10 finished with value: -0.23423535114015898 and parameters: {'n_estimators': 902, 'max_depth': 12}. Best is trial 2 with value: -0.226781309634526.\n",
      "[I 2023-11-10 15:47:57,188] Trial 4 finished with value: -0.22805235552091419 and parameters: {'n_estimators': 882, 'max_depth': 6}. Best is trial 2 with value: -0.226781309634526.\n",
      "[I 2023-11-10 15:47:59,127] Trial 16 finished with value: -0.22688852198555912 and parameters: {'n_estimators': 403, 'max_depth': 5}. Best is trial 2 with value: -0.226781309634526.\n",
      "[I 2023-11-10 15:48:20,783] Trial 7 finished with value: -0.22804293777666312 and parameters: {'n_estimators': 755, 'max_depth': 9}. Best is trial 2 with value: -0.226781309634526.\n",
      "[I 2023-11-10 15:48:24,426] Trial 18 finished with value: -0.23224074022188063 and parameters: {'n_estimators': 140, 'max_depth': 11}. Best is trial 2 with value: -0.226781309634526.\n",
      "[I 2023-11-10 15:49:17,256] Trial 9 finished with value: -0.22680895045095634 and parameters: {'n_estimators': 845, 'max_depth': 8}. Best is trial 2 with value: -0.226781309634526.\n",
      "[I 2023-11-10 15:49:43,662] Trial 15 finished with value: -0.23423535114015898 and parameters: {'n_estimators': 922, 'max_depth': 12}. Best is trial 2 with value: -0.226781309634526.\n",
      "[I 2023-11-10 15:49:44,795] Trial 11 finished with value: -0.2268104444255211 and parameters: {'n_estimators': 734, 'max_depth': 8}. Best is trial 2 with value: -0.226781309634526.\n",
      "[I 2023-11-10 15:50:11,926] Trial 24 finished with value: -0.238335058847911 and parameters: {'n_estimators': 472, 'max_depth': 15}. Best is trial 2 with value: -0.226781309634526.\n",
      "[I 2023-11-10 15:50:30,566] Trial 17 finished with value: -0.22848893871001516 and parameters: {'n_estimators': 794, 'max_depth': 7}. Best is trial 2 with value: -0.226781309634526.\n",
      "[I 2023-11-10 15:50:46,490] Trial 20 finished with value: -0.22804699695082992 and parameters: {'n_estimators': 503, 'max_depth': 9}. Best is trial 2 with value: -0.226781309634526.\n",
      "[I 2023-11-10 15:50:50,328] Trial 19 finished with value: -0.22804293777666312 and parameters: {'n_estimators': 590, 'max_depth': 9}. Best is trial 2 with value: -0.226781309634526.\n",
      "[I 2023-11-10 15:50:53,878] Trial 27 finished with value: -0.238335058847911 and parameters: {'n_estimators': 536, 'max_depth': 15}. Best is trial 2 with value: -0.226781309634526.\n",
      "[I 2023-11-10 15:50:54,241] Trial 21 finished with value: -0.2280483130330214 and parameters: {'n_estimators': 493, 'max_depth': 9}. Best is trial 2 with value: -0.226781309634526.\n",
      "[I 2023-11-10 15:50:54,970] Trial 26 finished with value: -0.238335058847911 and parameters: {'n_estimators': 614, 'max_depth': 15}. Best is trial 2 with value: -0.226781309634526.\n",
      "[I 2023-11-10 15:50:59,708] Trial 22 finished with value: -0.22804360327492096 and parameters: {'n_estimators': 540, 'max_depth': 9}. Best is trial 2 with value: -0.226781309634526.\n",
      "[I 2023-11-10 15:51:02,255] Trial 23 finished with value: -0.22804868340162865 and parameters: {'n_estimators': 507, 'max_depth': 9}. Best is trial 2 with value: -0.226781309634526.\n",
      "[I 2023-11-10 15:51:17,693] Trial 25 finished with value: -0.2267974034079911 and parameters: {'n_estimators': 660, 'max_depth': 8}. Best is trial 2 with value: -0.226781309634526.\n",
      "[I 2023-11-10 15:51:28,315] Trial 28 finished with value: -0.22804293777666312 and parameters: {'n_estimators': 606, 'max_depth': 9}. Best is trial 2 with value: -0.226781309634526.\n",
      "[I 2023-11-10 15:51:32,137] Trial 29 finished with value: -0.22804293777666312 and parameters: {'n_estimators': 593, 'max_depth': 9}. Best is trial 2 with value: -0.226781309634526.\n",
      "CPU times: total: 1h 3min 56s\n",
      "Wall time: 8min 41s\n"
     ]
    }
   ],
   "source": [
    "study = optuna.create_study(direction='maximize')\n",
    "%time study.optimize(objective, n_trials=30, show_progress_bar=True, n_jobs=10)"
   ]
  },
  {
   "cell_type": "code",
   "execution_count": 7,
   "id": "371db628-eb36-4884-ac05-df76ee65a95e",
   "metadata": {
    "tags": []
   },
   "outputs": [
    {
     "name": "stdout",
     "output_type": "stream",
     "text": [
      "Best hyperparameters: {'n_estimators': 444, 'max_depth': 8}\n",
      "Best RMSE: -0.226781309634526\n"
     ]
    }
   ],
   "source": [
    "print('Best hyperparameters:', study.best_params)\n",
    "print('Best RMSE:', study.best_value)"
   ]
  },
  {
   "cell_type": "code",
   "execution_count": 8,
   "id": "ccdc28a6-7748-409c-b02e-00fbcf1f15c8",
   "metadata": {
    "tags": []
   },
   "outputs": [],
   "source": [
    "mod = xgb.XGBRegressor(**study.best_params)\n",
    "mod = mod.fit(X_train, y_train)"
   ]
  },
  {
   "cell_type": "code",
   "execution_count": 9,
   "id": "690dd119-8c49-4953-ac0a-5c79f90cf697",
   "metadata": {
    "tags": []
   },
   "outputs": [
    {
     "name": "stdout",
     "output_type": "stream",
     "text": [
      "0.1582882575090182\n"
     ]
    }
   ],
   "source": [
    "prediction = mod.predict(X_val)\n",
    "print(mean_absolute_percentage_error(np.exp(y_val), np.exp(prediction)))"
   ]
  },
  {
   "cell_type": "code",
   "execution_count": 10,
   "id": "fef11b68-d6d8-4e0e-8fce-e5863c68756c",
   "metadata": {
    "tags": []
   },
   "outputs": [
    {
     "name": "stdout",
     "output_type": "stream",
     "text": [
      "                            OLS Regression Results                            \n",
      "==============================================================================\n",
      "Dep. Variable:     median_house_value   R-squared:                       0.648\n",
      "Model:                            OLS   Adj. R-squared:                  0.647\n",
      "Method:                 Least Squares   F-statistic:                     3369.\n",
      "Date:                Fri, 10 Nov 2023   Prob (F-statistic):               0.00\n",
      "Time:                        15:51:36   Log-Likelihood:                -5507.4\n",
      "No. Observations:               16512   AIC:                         1.103e+04\n",
      "Df Residuals:                   16502   BIC:                         1.111e+04\n",
      "Df Model:                           9                                         \n",
      "Covariance Type:            nonrobust                                         \n",
      "======================================================================================\n",
      "                         coef    std err          t      P>|t|      [0.025      0.975]\n",
      "--------------------------------------------------------------------------------------\n",
      "const                -12.4490      0.354    -35.161      0.000     -13.143     -11.755\n",
      "longitude             -0.2830      0.004    -70.463      0.000      -0.291      -0.275\n",
      "latitude              -0.2843      0.004    -76.383      0.000      -0.292      -0.277\n",
      "housing_median_age     0.0034      0.000     14.626      0.000       0.003       0.004\n",
      "total_rooms        -2.934e-05   4.34e-06     -6.759      0.000   -3.79e-05   -2.08e-05\n",
      "total_bedrooms         0.0005   3.78e-05     12.822      0.000       0.000       0.001\n",
      "population            -0.0002   5.86e-06    -30.485      0.000      -0.000      -0.000\n",
      "households             0.0003   4.13e-05      6.183      0.000       0.000       0.000\n",
      "median_income          0.1779      0.002     97.248      0.000       0.174       0.182\n",
      "ocean_proximity       -0.0150      0.002     -7.532      0.000      -0.019      -0.011\n",
      "==============================================================================\n",
      "Omnibus:                      939.766   Durbin-Watson:                   1.976\n",
      "Prob(Omnibus):                  0.000   Jarque-Bera (JB):             3921.053\n",
      "Skew:                           0.070   Prob(JB):                         0.00\n",
      "Kurtosis:                       5.383   Cond. No.                     5.32e+05\n",
      "==============================================================================\n",
      "\n",
      "Notes:\n",
      "[1] Standard Errors assume that the covariance matrix of the errors is correctly specified.\n",
      "[2] The condition number is large, 5.32e+05. This might indicate that there are\n",
      "strong multicollinearity or other numerical problems.\n"
     ]
    }
   ],
   "source": [
    "#fit linear regression model\n",
    "X_train = sm.add_constant(X_train)\n",
    "model = sm.OLS(endog=y_train, exog=X_train).fit()\n",
    "\n",
    "#view model summary\n",
    "print(model.summary())"
   ]
  },
  {
   "cell_type": "code",
   "execution_count": 11,
   "id": "023abb66-b474-40c3-a609-77e8145de123",
   "metadata": {
    "tags": []
   },
   "outputs": [
    {
     "name": "stdout",
     "output_type": "stream",
     "text": [
      "              feature         VIF\n",
      "0           longitude  623.011872\n",
      "1            latitude  560.130880\n",
      "2  housing_median_age    7.358434\n",
      "3         total_rooms   30.998594\n",
      "4      total_bedrooms   95.511500\n",
      "5          population   16.534817\n",
      "6          households   93.696216\n",
      "7       median_income    8.310703\n",
      "8     ocean_proximity    1.769769\n"
     ]
    }
   ],
   "source": [
    "# VIF dataframe\n",
    "vif_data = pd.DataFrame()\n",
    "vif_data[\"feature\"] = X_train.drop(columns='const').columns\n",
    "  \n",
    "# calculating VIF for each feature\n",
    "vif_data[\"VIF\"] = [variance_inflation_factor(X_train.drop(columns='const').values, i)\n",
    "                          for i in range(len(X_train.drop(columns='const').columns))]\n",
    "  \n",
    "print(vif_data)"
   ]
  },
  {
   "cell_type": "code",
   "execution_count": 12,
   "id": "d8fba2df-ac4a-496a-b3ce-27a798671a6a",
   "metadata": {
    "tags": []
   },
   "outputs": [
    {
     "data": {
      "text/plain": [
       "0.27426924482376913"
      ]
     },
     "execution_count": 12,
     "metadata": {},
     "output_type": "execute_result"
    }
   ],
   "source": [
    "X_val = sm.add_constant(X_val)\n",
    "lm_pred = model.predict(X_val)\n",
    "\n",
    "mean_absolute_percentage_error(np.exp(y_val), np.exp(lm_pred))"
   ]
  },
  {
   "cell_type": "markdown",
   "id": "4638d37e-fa44-4118-9982-3e5e0d17c42d",
   "metadata": {},
   "source": [
    "XGBoost model shows better results than Linear regression (especially, after optimization the first)"
   ]
  }
 ],
 "metadata": {
  "kernelspec": {
   "display_name": "Python 3 (ipykernel)",
   "language": "python",
   "name": "python3"
  },
  "language_info": {
   "codemirror_mode": {
    "name": "ipython",
    "version": 3
   },
   "file_extension": ".py",
   "mimetype": "text/x-python",
   "name": "python",
   "nbconvert_exporter": "python",
   "pygments_lexer": "ipython3",
   "version": "3.10.9"
  }
 },
 "nbformat": 4,
 "nbformat_minor": 5
}
