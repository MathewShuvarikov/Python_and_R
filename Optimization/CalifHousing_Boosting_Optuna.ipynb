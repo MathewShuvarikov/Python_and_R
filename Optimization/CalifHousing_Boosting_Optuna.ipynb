{
 "cells": [
  {
   "cell_type": "code",
   "execution_count": 1,
   "id": "496e39b8-52f1-40a7-a4dc-655049bc527f",
   "metadata": {
    "tags": []
   },
   "outputs": [],
   "source": [
    "import pandas as pd\n",
    "import numpy as np\n",
    "from sklearn.model_selection import train_test_split, cross_val_score\n",
    "import catboost as cb\n",
    "import xgboost as xgb\n",
    "from sklearn.metrics import mean_squared_error, mean_absolute_percentage_error\n",
    "import optuna\n",
    "from sklearn.preprocessing import LabelEncoder\n",
    "from sklearn.impute import KNNImputer\n",
    "import statsmodels.api as sm\n",
    "from statsmodels.stats.outliers_influence import variance_inflation_factor"
   ]
  },
  {
   "cell_type": "code",
   "execution_count": 2,
   "id": "064008a3-7325-4faa-8955-bb7fa882deb9",
   "metadata": {
    "tags": []
   },
   "outputs": [
    {
     "name": "stdout",
     "output_type": "stream",
     "text": [
      "<class 'pandas.core.frame.DataFrame'>\n",
      "RangeIndex: 20640 entries, 0 to 20639\n",
      "Data columns (total 10 columns):\n",
      " #   Column              Non-Null Count  Dtype  \n",
      "---  ------              --------------  -----  \n",
      " 0   longitude           20640 non-null  float64\n",
      " 1   latitude            20640 non-null  float64\n",
      " 2   housing_median_age  20640 non-null  float64\n",
      " 3   total_rooms         20640 non-null  float64\n",
      " 4   total_bedrooms      20433 non-null  float64\n",
      " 5   population          20640 non-null  float64\n",
      " 6   households          20640 non-null  float64\n",
      " 7   median_income       20640 non-null  float64\n",
      " 8   median_house_value  20640 non-null  float64\n",
      " 9   ocean_proximity     20640 non-null  object \n",
      "dtypes: float64(9), object(1)\n",
      "memory usage: 1.6+ MB\n"
     ]
    }
   ],
   "source": [
    "# load data\n",
    "df = pd.read_csv('/Users/shuva/Downloads/df/df/CA_housing.csv')\n",
    "df.info()"
   ]
  },
  {
   "cell_type": "code",
   "execution_count": 3,
   "id": "c2beb15b-fa5a-497e-ae82-320135707dbf",
   "metadata": {
    "tags": []
   },
   "outputs": [],
   "source": [
    "# Encode categorical values\n",
    "le = LabelEncoder()\n",
    "df['ocean_proximity'] = le.fit_transform(df['ocean_proximity'])\n",
    "\n",
    "# Dealing with Nans\n",
    "cols = df.columns\n",
    "df = pd.DataFrame(KNNImputer(n_neighbors=5, ).fit_transform(df))\n",
    "df.columns = cols"
   ]
  },
  {
   "cell_type": "code",
   "execution_count": 4,
   "id": "44dba714-71ac-4fd3-b3ae-ee30bc171da5",
   "metadata": {
    "tags": []
   },
   "outputs": [],
   "source": [
    "# train and test sample\n",
    "X = df.drop(\"median_house_value\", axis=1)\n",
    "y = np.log(df[\"median_house_value\"])\n",
    "\n",
    "X_train, X_val, y_train, y_val = train_test_split(X, y, test_size=0.2, random_state=42)"
   ]
  },
  {
   "cell_type": "markdown",
   "id": "28db920d-dea0-4685-9674-c0a10c81fb08",
   "metadata": {},
   "source": [
    "Optuna Optimization"
   ]
  },
  {
   "cell_type": "code",
   "execution_count": 5,
   "id": "75d974ac-8582-4f0c-b01f-63f32323c6da",
   "metadata": {
    "tags": []
   },
   "outputs": [],
   "source": [
    "def objective(trial):\n",
    "    params = {\n",
    "        \"n_estimators\": trial.suggest_int(\"n_estimators\", 50, 1000),\n",
    "        \"max_depth\": trial.suggest_int(\"max_depth\", 1, 15),\n",
    "        'random_state': 0\n",
    "    }\n",
    "\n",
    "    model = xgb.XGBRegressor(**params, )\n",
    "    return cross_val_score(model, X_train, y_train, cv=5, scoring='neg_root_mean_squared_error').mean()"
   ]
  },
  {
   "cell_type": "code",
   "execution_count": 6,
   "id": "c15668f9-a7e4-42d1-bf4c-fa013f3887bf",
   "metadata": {
    "tags": []
   },
   "outputs": [
    {
     "name": "stderr",
     "output_type": "stream",
     "text": [
      "[I 2023-11-10 22:17:02,354] A new study created in memory with name: no-name-a8614284-391c-48f1-81af-b3c59ce8f6a5\n"
     ]
    },
    {
     "data": {
      "application/vnd.jupyter.widget-view+json": {
       "model_id": "5ed458c7702e47c5965b4b072f75516c",
       "version_major": 2,
       "version_minor": 0
      },
      "text/plain": [
       "  0%|          | 0/30 [00:00<?, ?it/s]"
      ]
     },
     "metadata": {},
     "output_type": "display_data"
    },
    {
     "name": "stdout",
     "output_type": "stream",
     "text": [
      "[I 2023-11-10 22:18:01,664] Trial 5 finished with value: -0.22788116311757456 and parameters: {'n_estimators': 279, 'max_depth': 4}. Best is trial 5 with value: -0.22788116311757456.\n",
      "[I 2023-11-10 22:18:27,727] Trial 1 finished with value: -0.2370917391016246 and parameters: {'n_estimators': 846, 'max_depth': 2}. Best is trial 5 with value: -0.22788116311757456.\n",
      "[I 2023-11-10 22:18:32,792] Trial 4 finished with value: -0.22781062430149762 and parameters: {'n_estimators': 149, 'max_depth': 9}. Best is trial 4 with value: -0.22781062430149762.\n",
      "[I 2023-11-10 22:18:39,043] Trial 11 finished with value: -0.24330072787442156 and parameters: {'n_estimators': 60, 'max_depth': 4}. Best is trial 4 with value: -0.22781062430149762.\n",
      "[I 2023-11-10 22:19:04,033] Trial 7 finished with value: -0.2289366538588034 and parameters: {'n_estimators': 840, 'max_depth': 3}. Best is trial 4 with value: -0.22781062430149762.\n",
      "[I 2023-11-10 22:19:38,272] Trial 9 finished with value: -0.22707485019575374 and parameters: {'n_estimators': 589, 'max_depth': 5}. Best is trial 9 with value: -0.22707485019575374.\n",
      "[I 2023-11-10 22:20:38,337] Trial 10 finished with value: -0.238335058847911 and parameters: {'n_estimators': 543, 'max_depth': 15}. Best is trial 9 with value: -0.22707485019575374.\n",
      "[I 2023-11-10 22:20:41,665] Trial 13 finished with value: -0.2274711960521608 and parameters: {'n_estimators': 383, 'max_depth': 6}. Best is trial 9 with value: -0.22707485019575374.\n",
      "[I 2023-11-10 22:21:05,803] Trial 8 finished with value: -0.22844130939064639 and parameters: {'n_estimators': 591, 'max_depth': 7}. Best is trial 9 with value: -0.22707485019575374.\n",
      "[I 2023-11-10 22:21:08,563] Trial 6 finished with value: -0.22805521400516232 and parameters: {'n_estimators': 428, 'max_depth': 9}. Best is trial 9 with value: -0.22707485019575374.\n",
      "[I 2023-11-10 22:21:23,670] Trial 14 finished with value: -0.238335058847911 and parameters: {'n_estimators': 202, 'max_depth': 15}. Best is trial 9 with value: -0.22707485019575374.\n",
      "[I 2023-11-10 22:21:36,146] Trial 2 finished with value: -0.2318655203447705 and parameters: {'n_estimators': 653, 'max_depth': 10}. Best is trial 9 with value: -0.22707485019575374.\n",
      "[I 2023-11-10 22:21:50,857] Trial 12 finished with value: -0.22805665954103072 and parameters: {'n_estimators': 357, 'max_depth': 9}. Best is trial 9 with value: -0.22707485019575374.\n",
      "[I 2023-11-10 22:21:59,505] Trial 18 finished with value: -0.23158686244264168 and parameters: {'n_estimators': 379, 'max_depth': 3}. Best is trial 9 with value: -0.22707485019575374.\n",
      "[I 2023-11-10 22:22:09,474] Trial 0 finished with value: -0.22679969489837806 and parameters: {'n_estimators': 623, 'max_depth': 8}. Best is trial 0 with value: -0.22679969489837806.\n",
      "[I 2023-11-10 22:22:20,374] Trial 3 finished with value: -0.22807799368837073 and parameters: {'n_estimators': 961, 'max_depth': 6}. Best is trial 0 with value: -0.22679969489837806.\n",
      "[I 2023-11-10 22:22:28,628] Trial 15 finished with value: -0.22641692101992178 and parameters: {'n_estimators': 887, 'max_depth': 4}. Best is trial 15 with value: -0.22641692101992178.\n",
      "[I 2023-11-10 22:23:35,162] Trial 21 finished with value: -0.22750878648047027 and parameters: {'n_estimators': 363, 'max_depth': 6}. Best is trial 15 with value: -0.22641692101992178.\n",
      "[I 2023-11-10 22:23:47,655] Trial 17 finished with value: -0.23519954138492025 and parameters: {'n_estimators': 594, 'max_depth': 13}. Best is trial 15 with value: -0.22641692101992178.\n",
      "[I 2023-11-10 22:24:01,485] Trial 16 finished with value: -0.23519954138492025 and parameters: {'n_estimators': 920, 'max_depth': 13}. Best is trial 15 with value: -0.22641692101992178.\n",
      "[I 2023-11-10 22:24:30,276] Trial 28 finished with value: -0.27171889640787106 and parameters: {'n_estimators': 751, 'max_depth': 1}. Best is trial 15 with value: -0.22641692101992178.\n",
      "[I 2023-11-10 22:24:38,303] Trial 19 finished with value: -0.23423535114015898 and parameters: {'n_estimators': 661, 'max_depth': 12}. Best is trial 15 with value: -0.22641692101992178.\n",
      "[I 2023-11-10 22:25:23,763] Trial 22 finished with value: -0.22789282986962336 and parameters: {'n_estimators': 701, 'max_depth': 6}. Best is trial 15 with value: -0.22641692101992178.\n",
      "[I 2023-11-10 22:25:26,661] Trial 24 finished with value: -0.23423535114015898 and parameters: {'n_estimators': 746, 'max_depth': 12}. Best is trial 15 with value: -0.22641692101992178.\n",
      "[I 2023-11-10 22:25:35,251] Trial 23 finished with value: -0.22793958133314157 and parameters: {'n_estimators': 724, 'max_depth': 6}. Best is trial 15 with value: -0.22641692101992178.\n",
      "[I 2023-11-10 22:25:36,154] Trial 26 finished with value: -0.23423535114015898 and parameters: {'n_estimators': 744, 'max_depth': 12}. Best is trial 15 with value: -0.22641692101992178.\n",
      "[I 2023-11-10 22:25:38,763] Trial 20 finished with value: -0.22848402216698077 and parameters: {'n_estimators': 694, 'max_depth': 7}. Best is trial 15 with value: -0.22641692101992178.\n",
      "[I 2023-11-10 22:25:41,374] Trial 25 finished with value: -0.23212790610379958 and parameters: {'n_estimators': 689, 'max_depth': 11}. Best is trial 15 with value: -0.22641692101992178.\n",
      "[I 2023-11-10 22:25:55,365] Trial 27 finished with value: -0.23423535114015898 and parameters: {'n_estimators': 748, 'max_depth': 12}. Best is trial 15 with value: -0.22641692101992178.\n",
      "[I 2023-11-10 22:26:12,593] Trial 29 finished with value: -0.23212790610379958 and parameters: {'n_estimators': 753, 'max_depth': 11}. Best is trial 15 with value: -0.22641692101992178.\n",
      "CPU times: total: 1h 53s\n",
      "Wall time: 9min 10s\n"
     ]
    }
   ],
   "source": [
    "study = optuna.create_study(direction='maximize')\n",
    "%time study.optimize(objective, n_trials=30, show_progress_bar=True, n_jobs=10)"
   ]
  },
  {
   "cell_type": "code",
   "execution_count": 7,
   "id": "371db628-eb36-4884-ac05-df76ee65a95e",
   "metadata": {
    "tags": []
   },
   "outputs": [
    {
     "name": "stdout",
     "output_type": "stream",
     "text": [
      "Best hyperparameters: {'n_estimators': 887, 'max_depth': 4}\n",
      "Best RMSE: -0.22641692101992178\n"
     ]
    }
   ],
   "source": [
    "print('Best hyperparameters:', study.best_params)\n",
    "print('Best RMSE:', study.best_value)"
   ]
  },
  {
   "cell_type": "code",
   "execution_count": 8,
   "id": "ccdc28a6-7748-409c-b02e-00fbcf1f15c8",
   "metadata": {
    "tags": []
   },
   "outputs": [],
   "source": [
    "mod = xgb.XGBRegressor(**study.best_params)\n",
    "mod = mod.fit(X_train, y_train)"
   ]
  },
  {
   "cell_type": "code",
   "execution_count": 9,
   "id": "690dd119-8c49-4953-ac0a-5c79f90cf697",
   "metadata": {
    "tags": []
   },
   "outputs": [
    {
     "name": "stdout",
     "output_type": "stream",
     "text": [
      "0.16154225232169692\n"
     ]
    }
   ],
   "source": [
    "prediction = mod.predict(X_val)\n",
    "print(mean_absolute_percentage_error(np.exp(y_val), np.exp(prediction)))"
   ]
  },
  {
   "cell_type": "code",
   "execution_count": 10,
   "id": "fef11b68-d6d8-4e0e-8fce-e5863c68756c",
   "metadata": {
    "tags": []
   },
   "outputs": [
    {
     "name": "stdout",
     "output_type": "stream",
     "text": [
      "                            OLS Regression Results                            \n",
      "==============================================================================\n",
      "Dep. Variable:     median_house_value   R-squared:                       0.648\n",
      "Model:                            OLS   Adj. R-squared:                  0.647\n",
      "Method:                 Least Squares   F-statistic:                     3369.\n",
      "Date:                Fri, 10 Nov 2023   Prob (F-statistic):               0.00\n",
      "Time:                        22:26:22   Log-Likelihood:                -5507.4\n",
      "No. Observations:               16512   AIC:                         1.103e+04\n",
      "Df Residuals:                   16502   BIC:                         1.111e+04\n",
      "Df Model:                           9                                         \n",
      "Covariance Type:            nonrobust                                         \n",
      "======================================================================================\n",
      "                         coef    std err          t      P>|t|      [0.025      0.975]\n",
      "--------------------------------------------------------------------------------------\n",
      "const                -12.4490      0.354    -35.161      0.000     -13.143     -11.755\n",
      "longitude             -0.2830      0.004    -70.463      0.000      -0.291      -0.275\n",
      "latitude              -0.2843      0.004    -76.383      0.000      -0.292      -0.277\n",
      "housing_median_age     0.0034      0.000     14.626      0.000       0.003       0.004\n",
      "total_rooms        -2.934e-05   4.34e-06     -6.759      0.000   -3.79e-05   -2.08e-05\n",
      "total_bedrooms         0.0005   3.78e-05     12.822      0.000       0.000       0.001\n",
      "population            -0.0002   5.86e-06    -30.485      0.000      -0.000      -0.000\n",
      "households             0.0003   4.13e-05      6.183      0.000       0.000       0.000\n",
      "median_income          0.1779      0.002     97.248      0.000       0.174       0.182\n",
      "ocean_proximity       -0.0150      0.002     -7.532      0.000      -0.019      -0.011\n",
      "==============================================================================\n",
      "Omnibus:                      939.766   Durbin-Watson:                   1.976\n",
      "Prob(Omnibus):                  0.000   Jarque-Bera (JB):             3921.053\n",
      "Skew:                           0.070   Prob(JB):                         0.00\n",
      "Kurtosis:                       5.383   Cond. No.                     5.32e+05\n",
      "==============================================================================\n",
      "\n",
      "Notes:\n",
      "[1] Standard Errors assume that the covariance matrix of the errors is correctly specified.\n",
      "[2] The condition number is large, 5.32e+05. This might indicate that there are\n",
      "strong multicollinearity or other numerical problems.\n"
     ]
    }
   ],
   "source": [
    "#fit linear regression model\n",
    "X_train = sm.add_constant(X_train)\n",
    "model = sm.OLS(endog=y_train, exog=X_train).fit()\n",
    "\n",
    "#view model summary\n",
    "print(model.summary())"
   ]
  },
  {
   "cell_type": "code",
   "execution_count": 11,
   "id": "023abb66-b474-40c3-a609-77e8145de123",
   "metadata": {
    "tags": []
   },
   "outputs": [
    {
     "name": "stdout",
     "output_type": "stream",
     "text": [
      "              feature         VIF\n",
      "0           longitude  623.011872\n",
      "1            latitude  560.130880\n",
      "2  housing_median_age    7.358434\n",
      "3         total_rooms   30.998594\n",
      "4      total_bedrooms   95.511500\n",
      "5          population   16.534817\n",
      "6          households   93.696216\n",
      "7       median_income    8.310703\n",
      "8     ocean_proximity    1.769769\n"
     ]
    }
   ],
   "source": [
    "# VIF dataframe\n",
    "vif_data = pd.DataFrame()\n",
    "vif_data[\"feature\"] = X_train.drop(columns='const').columns\n",
    "  \n",
    "# calculating VIF for each feature\n",
    "vif_data[\"VIF\"] = [variance_inflation_factor(X_train.drop(columns='const').values, i)\n",
    "                          for i in range(len(X_train.drop(columns='const').columns))]\n",
    "  \n",
    "print(vif_data)"
   ]
  },
  {
   "cell_type": "markdown",
   "id": "a0bd2b17-7843-453c-96f0-b7251bdb859d",
   "metadata": {},
   "source": [
    "Regularization, since we do have a strong multicollinearity"
   ]
  },
  {
   "cell_type": "code",
   "execution_count": 13,
   "id": "fc64eff7-a847-4b35-ab8c-86c5a1f9d604",
   "metadata": {},
   "outputs": [
    {
     "data": {
      "text/plain": [
       "const                 11.050254\n",
       "longitude             -0.000015\n",
       "latitude              -0.006457\n",
       "housing_median_age     0.009289\n",
       "total_rooms           -0.000076\n",
       "total_bedrooms         0.000423\n",
       "population            -0.000149\n",
       "households             0.000589\n",
       "median_income          0.224470\n",
       "ocean_proximity        0.014727\n",
       "dtype: float64"
      ]
     },
     "execution_count": 13,
     "metadata": {},
     "output_type": "execute_result"
    }
   ],
   "source": [
    "regul = sm.OLS(y_train,X_train).fit_regularized(alpha=0)\n",
    "regul.params"
   ]
  },
  {
   "cell_type": "code",
   "execution_count": 14,
   "id": "d8fba2df-ac4a-496a-b3ce-27a798671a6a",
   "metadata": {
    "tags": []
   },
   "outputs": [
    {
     "data": {
      "text/plain": [
       "0.33159925392724093"
      ]
     },
     "execution_count": 14,
     "metadata": {},
     "output_type": "execute_result"
    }
   ],
   "source": [
    "X_val = sm.add_constant(X_val)\n",
    "lm_pred = regul.predict(X_val)\n",
    "\n",
    "mean_absolute_percentage_error(np.exp(y_val), np.exp(lm_pred))"
   ]
  },
  {
   "cell_type": "markdown",
   "id": "4638d37e-fa44-4118-9982-3e5e0d17c42d",
   "metadata": {},
   "source": [
    "XGBoost model shows better results than Linear regression (especially, after optimization the first)"
   ]
  }
 ],
 "metadata": {
  "kernelspec": {
   "display_name": "Python 3 (ipykernel)",
   "language": "python",
   "name": "python3"
  },
  "language_info": {
   "codemirror_mode": {
    "name": "ipython",
    "version": 3
   },
   "file_extension": ".py",
   "mimetype": "text/x-python",
   "name": "python",
   "nbconvert_exporter": "python",
   "pygments_lexer": "ipython3",
   "version": "3.10.9"
  }
 },
 "nbformat": 4,
 "nbformat_minor": 5
}
