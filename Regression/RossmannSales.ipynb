{
 "cells": [
  {
   "cell_type": "code",
   "execution_count": 1,
   "id": "49327022-8196-469a-bccf-4d3df27693ad",
   "metadata": {},
   "outputs": [],
   "source": [
    "# load necessary libraries\n",
    "import pandas as pd\n",
    "import numpy as np\n",
    "from scipy import stats\n",
    "import matplotlib.pyplot as plt\n",
    "import statsmodels.formula.api as smf\n",
    "import statsmodels.stats.api as sms"
   ]
  },
  {
   "cell_type": "code",
   "execution_count": 2,
   "id": "707c52bd-93d6-4595-8962-24f25ba85ba9",
   "metadata": {},
   "outputs": [],
   "source": [
    "# download dataframe (sales in Rossmann Supermarkets)\n",
    "df = pd.read_csv('path_to_file', low_memory=False)"
   ]
  },
  {
   "cell_type": "code",
   "execution_count": 3,
   "id": "8d36a1f1",
   "metadata": {},
   "outputs": [
    {
     "name": "stdout",
     "output_type": "stream",
     "text": [
      "<class 'pandas.core.frame.DataFrame'>\n",
      "RangeIndex: 1017209 entries, 0 to 1017208\n",
      "Data columns (total 19 columns):\n",
      " #   Column                     Non-Null Count    Dtype  \n",
      "---  ------                     --------------    -----  \n",
      " 0   Unnamed: 0                 1017209 non-null  int64  \n",
      " 1   Date                       1017209 non-null  object \n",
      " 2   Sales                      1017209 non-null  int64  \n",
      " 3   Customers                  1017209 non-null  int64  \n",
      " 4   Store                      1017209 non-null  int64  \n",
      " 5   DayOfWeek                  1017209 non-null  int64  \n",
      " 6   Open                       1017209 non-null  int64  \n",
      " 7   Promo                      1017209 non-null  int64  \n",
      " 8   StateHoliday               1017209 non-null  object \n",
      " 9   SchoolHoliday              1017209 non-null  int64  \n",
      " 10  StoreType                  1017209 non-null  object \n",
      " 11  Assortment                 1017209 non-null  object \n",
      " 12  CompetitionDistance        1014567 non-null  float64\n",
      " 13  CompetitionOpenSinceMonth  693861 non-null   float64\n",
      " 14  CompetitionOpenSinceYear   693861 non-null   float64\n",
      " 15  Promo2                     1017209 non-null  int64  \n",
      " 16  Promo2SinceWeek            509178 non-null   float64\n",
      " 17  Promo2SinceYear            509178 non-null   float64\n",
      " 18  PromoInterval              509178 non-null   object \n",
      "dtypes: float64(5), int64(9), object(5)\n",
      "memory usage: 147.5+ MB\n"
     ]
    },
    {
     "data": {
      "text/html": [
       "<div>\n",
       "<style scoped>\n",
       "    .dataframe tbody tr th:only-of-type {\n",
       "        vertical-align: middle;\n",
       "    }\n",
       "\n",
       "    .dataframe tbody tr th {\n",
       "        vertical-align: top;\n",
       "    }\n",
       "\n",
       "    .dataframe thead th {\n",
       "        text-align: right;\n",
       "    }\n",
       "</style>\n",
       "<table border=\"1\" class=\"dataframe\">\n",
       "  <thead>\n",
       "    <tr style=\"text-align: right;\">\n",
       "      <th></th>\n",
       "      <th>Unnamed: 0</th>\n",
       "      <th>Sales</th>\n",
       "      <th>Customers</th>\n",
       "      <th>Store</th>\n",
       "      <th>DayOfWeek</th>\n",
       "      <th>Open</th>\n",
       "      <th>Promo</th>\n",
       "      <th>SchoolHoliday</th>\n",
       "      <th>CompetitionDistance</th>\n",
       "      <th>CompetitionOpenSinceMonth</th>\n",
       "      <th>CompetitionOpenSinceYear</th>\n",
       "      <th>Promo2</th>\n",
       "      <th>Promo2SinceWeek</th>\n",
       "      <th>Promo2SinceYear</th>\n",
       "    </tr>\n",
       "  </thead>\n",
       "  <tbody>\n",
       "    <tr>\n",
       "      <th>count</th>\n",
       "      <td>1.017209e+06</td>\n",
       "      <td>1.017209e+06</td>\n",
       "      <td>1.017209e+06</td>\n",
       "      <td>1.017209e+06</td>\n",
       "      <td>1.017209e+06</td>\n",
       "      <td>1.017209e+06</td>\n",
       "      <td>1.017209e+06</td>\n",
       "      <td>1.017209e+06</td>\n",
       "      <td>1.014567e+06</td>\n",
       "      <td>693861.000000</td>\n",
       "      <td>693861.000000</td>\n",
       "      <td>1.017209e+06</td>\n",
       "      <td>509178.000000</td>\n",
       "      <td>509178.000000</td>\n",
       "    </tr>\n",
       "    <tr>\n",
       "      <th>mean</th>\n",
       "      <td>5.086050e+05</td>\n",
       "      <td>5.773819e+03</td>\n",
       "      <td>6.331459e+02</td>\n",
       "      <td>5.584297e+02</td>\n",
       "      <td>3.998341e+00</td>\n",
       "      <td>8.301067e-01</td>\n",
       "      <td>3.815145e-01</td>\n",
       "      <td>1.786467e-01</td>\n",
       "      <td>5.430086e+03</td>\n",
       "      <td>7.222866</td>\n",
       "      <td>2008.690228</td>\n",
       "      <td>5.005638e-01</td>\n",
       "      <td>23.269093</td>\n",
       "      <td>2011.752774</td>\n",
       "    </tr>\n",
       "    <tr>\n",
       "      <th>std</th>\n",
       "      <td>2.936431e+05</td>\n",
       "      <td>3.849926e+03</td>\n",
       "      <td>4.644117e+02</td>\n",
       "      <td>3.219087e+02</td>\n",
       "      <td>1.997391e+00</td>\n",
       "      <td>3.755392e-01</td>\n",
       "      <td>4.857586e-01</td>\n",
       "      <td>3.830564e-01</td>\n",
       "      <td>7.715324e+03</td>\n",
       "      <td>3.211832</td>\n",
       "      <td>5.992644</td>\n",
       "      <td>4.999999e-01</td>\n",
       "      <td>14.095973</td>\n",
       "      <td>1.662870</td>\n",
       "    </tr>\n",
       "    <tr>\n",
       "      <th>min</th>\n",
       "      <td>1.000000e+00</td>\n",
       "      <td>0.000000e+00</td>\n",
       "      <td>0.000000e+00</td>\n",
       "      <td>1.000000e+00</td>\n",
       "      <td>1.000000e+00</td>\n",
       "      <td>0.000000e+00</td>\n",
       "      <td>0.000000e+00</td>\n",
       "      <td>0.000000e+00</td>\n",
       "      <td>2.000000e+01</td>\n",
       "      <td>1.000000</td>\n",
       "      <td>1900.000000</td>\n",
       "      <td>0.000000e+00</td>\n",
       "      <td>1.000000</td>\n",
       "      <td>2009.000000</td>\n",
       "    </tr>\n",
       "    <tr>\n",
       "      <th>25%</th>\n",
       "      <td>2.543030e+05</td>\n",
       "      <td>3.727000e+03</td>\n",
       "      <td>4.050000e+02</td>\n",
       "      <td>2.800000e+02</td>\n",
       "      <td>2.000000e+00</td>\n",
       "      <td>1.000000e+00</td>\n",
       "      <td>0.000000e+00</td>\n",
       "      <td>0.000000e+00</td>\n",
       "      <td>7.100000e+02</td>\n",
       "      <td>4.000000</td>\n",
       "      <td>2006.000000</td>\n",
       "      <td>0.000000e+00</td>\n",
       "      <td>13.000000</td>\n",
       "      <td>2011.000000</td>\n",
       "    </tr>\n",
       "    <tr>\n",
       "      <th>50%</th>\n",
       "      <td>5.086050e+05</td>\n",
       "      <td>5.744000e+03</td>\n",
       "      <td>6.090000e+02</td>\n",
       "      <td>5.580000e+02</td>\n",
       "      <td>4.000000e+00</td>\n",
       "      <td>1.000000e+00</td>\n",
       "      <td>0.000000e+00</td>\n",
       "      <td>0.000000e+00</td>\n",
       "      <td>2.330000e+03</td>\n",
       "      <td>8.000000</td>\n",
       "      <td>2010.000000</td>\n",
       "      <td>1.000000e+00</td>\n",
       "      <td>22.000000</td>\n",
       "      <td>2012.000000</td>\n",
       "    </tr>\n",
       "    <tr>\n",
       "      <th>75%</th>\n",
       "      <td>7.629070e+05</td>\n",
       "      <td>7.856000e+03</td>\n",
       "      <td>8.370000e+02</td>\n",
       "      <td>8.380000e+02</td>\n",
       "      <td>6.000000e+00</td>\n",
       "      <td>1.000000e+00</td>\n",
       "      <td>1.000000e+00</td>\n",
       "      <td>0.000000e+00</td>\n",
       "      <td>6.890000e+03</td>\n",
       "      <td>10.000000</td>\n",
       "      <td>2013.000000</td>\n",
       "      <td>1.000000e+00</td>\n",
       "      <td>37.000000</td>\n",
       "      <td>2013.000000</td>\n",
       "    </tr>\n",
       "    <tr>\n",
       "      <th>max</th>\n",
       "      <td>1.017209e+06</td>\n",
       "      <td>4.155100e+04</td>\n",
       "      <td>7.388000e+03</td>\n",
       "      <td>1.115000e+03</td>\n",
       "      <td>7.000000e+00</td>\n",
       "      <td>1.000000e+00</td>\n",
       "      <td>1.000000e+00</td>\n",
       "      <td>1.000000e+00</td>\n",
       "      <td>7.586000e+04</td>\n",
       "      <td>12.000000</td>\n",
       "      <td>2015.000000</td>\n",
       "      <td>1.000000e+00</td>\n",
       "      <td>50.000000</td>\n",
       "      <td>2015.000000</td>\n",
       "    </tr>\n",
       "  </tbody>\n",
       "</table>\n",
       "</div>"
      ],
      "text/plain": [
       "         Unnamed: 0         Sales     Customers         Store     DayOfWeek  \\\n",
       "count  1.017209e+06  1.017209e+06  1.017209e+06  1.017209e+06  1.017209e+06   \n",
       "mean   5.086050e+05  5.773819e+03  6.331459e+02  5.584297e+02  3.998341e+00   \n",
       "std    2.936431e+05  3.849926e+03  4.644117e+02  3.219087e+02  1.997391e+00   \n",
       "min    1.000000e+00  0.000000e+00  0.000000e+00  1.000000e+00  1.000000e+00   \n",
       "25%    2.543030e+05  3.727000e+03  4.050000e+02  2.800000e+02  2.000000e+00   \n",
       "50%    5.086050e+05  5.744000e+03  6.090000e+02  5.580000e+02  4.000000e+00   \n",
       "75%    7.629070e+05  7.856000e+03  8.370000e+02  8.380000e+02  6.000000e+00   \n",
       "max    1.017209e+06  4.155100e+04  7.388000e+03  1.115000e+03  7.000000e+00   \n",
       "\n",
       "               Open         Promo  SchoolHoliday  CompetitionDistance  \\\n",
       "count  1.017209e+06  1.017209e+06   1.017209e+06         1.014567e+06   \n",
       "mean   8.301067e-01  3.815145e-01   1.786467e-01         5.430086e+03   \n",
       "std    3.755392e-01  4.857586e-01   3.830564e-01         7.715324e+03   \n",
       "min    0.000000e+00  0.000000e+00   0.000000e+00         2.000000e+01   \n",
       "25%    1.000000e+00  0.000000e+00   0.000000e+00         7.100000e+02   \n",
       "50%    1.000000e+00  0.000000e+00   0.000000e+00         2.330000e+03   \n",
       "75%    1.000000e+00  1.000000e+00   0.000000e+00         6.890000e+03   \n",
       "max    1.000000e+00  1.000000e+00   1.000000e+00         7.586000e+04   \n",
       "\n",
       "       CompetitionOpenSinceMonth  CompetitionOpenSinceYear        Promo2  \\\n",
       "count              693861.000000             693861.000000  1.017209e+06   \n",
       "mean                    7.222866               2008.690228  5.005638e-01   \n",
       "std                     3.211832                  5.992644  4.999999e-01   \n",
       "min                     1.000000               1900.000000  0.000000e+00   \n",
       "25%                     4.000000               2006.000000  0.000000e+00   \n",
       "50%                     8.000000               2010.000000  1.000000e+00   \n",
       "75%                    10.000000               2013.000000  1.000000e+00   \n",
       "max                    12.000000               2015.000000  1.000000e+00   \n",
       "\n",
       "       Promo2SinceWeek  Promo2SinceYear  \n",
       "count    509178.000000    509178.000000  \n",
       "mean         23.269093      2011.752774  \n",
       "std          14.095973         1.662870  \n",
       "min           1.000000      2009.000000  \n",
       "25%          13.000000      2011.000000  \n",
       "50%          22.000000      2012.000000  \n",
       "75%          37.000000      2013.000000  \n",
       "max          50.000000      2015.000000  "
      ]
     },
     "execution_count": 3,
     "metadata": {},
     "output_type": "execute_result"
    }
   ],
   "source": [
    "# info about data\n",
    "df.info()\n",
    "df.describe()"
   ]
  },
  {
   "cell_type": "markdown",
   "id": "d0dab720",
   "metadata": {},
   "source": [
    "Description of necessary columns\n",
    "Sales - amount of sales in euro, Customers - number of customers, DayOfWeek, Promo - promotions (0 or 1)"
   ]
  },
  {
   "cell_type": "markdown",
   "id": "a033ac22",
   "metadata": {},
   "source": [
    "We need to clean raw data, because of outliers, to get better regression results"
   ]
  },
  {
   "cell_type": "code",
   "execution_count": 4,
   "id": "3630080f-a3bc-4f24-a5ad-06178aa57a7c",
   "metadata": {},
   "outputs": [],
   "source": [
    "# data conversion\n",
    "df = df.iloc[:, [2,3,4,5,7]]\n",
    "df = df.loc[(df.Sales>0)&(df.Customers > 0) ,:] # a lot of zero-outliers\n",
    "df = df.loc[(df.Sales<=12296)&(df.Customers <= 1300)&(df.Customers>55) ,:] # drop ouliers using interquartile range rule"
   ]
  },
  {
   "cell_type": "code",
   "execution_count": 5,
   "id": "e25b119b-386b-4651-9315-4350c4b452fd",
   "metadata": {},
   "outputs": [
    {
     "data": {
      "text/plain": [
       "<AxesSubplot: >"
      ]
     },
     "execution_count": 5,
     "metadata": {},
     "output_type": "execute_result"
    },
    {
     "data": {
      "image/png": "[encoded data removed]",
      "text/plain": [
       "<Figure size 640x480 with 1 Axes>"
      ]
     },
     "metadata": {},
     "output_type": "display_data"
    }
   ],
   "source": [
    "# smooth hist because of previous iterations\n",
    "df.Sales.hist(bins = 100)"
   ]
  },
  {
   "cell_type": "code",
   "execution_count": 6,
   "id": "d1bf19b0-7dfd-41a9-bd7f-a93cd07985cb",
   "metadata": {},
   "outputs": [
    {
     "data": {
      "text/plain": [
       "<AxesSubplot: >"
      ]
     },
     "execution_count": 6,
     "metadata": {},
     "output_type": "execute_result"
    },
    {
     "data": {
      "image/png": "[encoded data removed]",
      "text/plain": [
       "<Figure size 640x480 with 1 Axes>"
      ]
     },
     "metadata": {},
     "output_type": "display_data"
    }
   ],
   "source": [
    "# smooth hist because of previous iterations\n",
    "df.Customers.hist(bins = 100, color = 'orange')"
   ]
  },
  {
   "cell_type": "code",
   "execution_count": 7,
   "id": "48eeb983-8fe0-4cfb-9102-249cac203826",
   "metadata": {},
   "outputs": [
    {
     "data": {
      "text/plain": [
       "{'whiskers': [<matplotlib.lines.Line2D at 0x12265dae0>,\n",
       "  <matplotlib.lines.Line2D at 0x12265dd80>],\n",
       " 'caps': [<matplotlib.lines.Line2D at 0x12265e020>,\n",
       "  <matplotlib.lines.Line2D at 0x12265e2c0>],\n",
       " 'boxes': [<matplotlib.lines.Line2D at 0x12265d840>],\n",
       " 'medians': [<matplotlib.lines.Line2D at 0x12265e560>],\n",
       " 'fliers': [<matplotlib.lines.Line2D at 0x12265eaa0>],\n",
       " 'means': [<matplotlib.lines.Line2D at 0x12265e800>]}"
      ]
     },
     "execution_count": 7,
     "metadata": {},
     "output_type": "execute_result"
    },
    {
     "data": {
      "image/png": "[encoded data removed]",
      "text/plain": [
       "<Figure size 640x480 with 1 Axes>"
      ]
     },
     "metadata": {},
     "output_type": "display_data"
    }
   ],
   "source": [
    "# there are no outliers \n",
    "plt.boxplot(df['Sales'], showfliers = True, showmeans = True)"
   ]
  },
  {
   "cell_type": "code",
   "execution_count": 8,
   "id": "e03a903f-c215-489e-8a32-708a13b4c178",
   "metadata": {},
   "outputs": [
    {
     "data": {
      "text/plain": [
       "{'whiskers': [<matplotlib.lines.Line2D at 0x1226d11e0>,\n",
       "  <matplotlib.lines.Line2D at 0x1226d1480>],\n",
       " 'caps': [<matplotlib.lines.Line2D at 0x1226d1720>,\n",
       "  <matplotlib.lines.Line2D at 0x1226d19c0>],\n",
       " 'boxes': [<matplotlib.lines.Line2D at 0x1226d0f40>],\n",
       " 'medians': [<matplotlib.lines.Line2D at 0x1226d1c60>],\n",
       " 'fliers': [<matplotlib.lines.Line2D at 0x1226d21a0>],\n",
       " 'means': [<matplotlib.lines.Line2D at 0x1226d1f00>]}"
      ]
     },
     "execution_count": 8,
     "metadata": {},
     "output_type": "execute_result"
    },
    {
     "data": {
      "image/png": "[encoded data removed]",
      "text/plain": [
       "<Figure size 640x480 with 1 Axes>"
      ]
     },
     "metadata": {},
     "output_type": "display_data"
    }
   ],
   "source": [
    "# there are no outliers \n",
    "plt.boxplot(df['Customers'], showfliers = True, showmeans = True)"
   ]
  },
  {
   "cell_type": "code",
   "execution_count": 9,
   "id": "04d4818f-bf07-401f-a795-7a5429e0fc8b",
   "metadata": {},
   "outputs": [
    {
     "name": "stdout",
     "output_type": "stream",
     "text": [
      "              Sales  Customers     Store  DayOfWeek     Promo\n",
      "Sales      1.000000   0.781713 -0.004568  -0.179920  0.427406\n",
      "Customers  0.781713   1.000000  0.028394  -0.136260  0.244713\n",
      "Store     -0.004568   0.028394  1.000000   0.000677 -0.000794\n",
      "DayOfWeek -0.179920  -0.136260  0.000677   1.000000 -0.269777\n",
      "Promo      0.427406   0.244713 -0.000794  -0.269777  1.000000\n",
      "              Sales  Customers     Store  DayOfWeek     Promo\n",
      "Sales      1.000000   0.793062 -0.007173  -0.165639  0.429805\n",
      "Customers  0.793062   1.000000  0.026471  -0.137115  0.253981\n",
      "Store     -0.007173   0.026471  1.000000   0.000584 -0.000833\n",
      "DayOfWeek -0.165639  -0.137115  0.000584   1.000000 -0.270675\n",
      "Promo      0.429805   0.253981 -0.000833  -0.270675  1.000000\n"
     ]
    }
   ],
   "source": [
    "# correlation matrix\n",
    "print(df.corr())\n",
    "print(df.corr(method = 'spearman'))"
   ]
  },
  {
   "cell_type": "code",
   "execution_count": 10,
   "id": "6eea556e-1c31-4fb5-8062-ba13f7382186",
   "metadata": {},
   "outputs": [
    {
     "name": "stdout",
     "output_type": "stream",
     "text": [
      "<matplotlib.collections.PathCollection object at 0x12270b640>\n"
     ]
    },
    {
     "data": {
      "image/png": "[encoded data removed]",
      "text/plain": [
       "<Figure size 640x480 with 1 Axes>"
      ]
     },
     "metadata": {},
     "output_type": "display_data"
    }
   ],
   "source": [
    "# scatter plot\n",
    "print(plt.scatter(x = df['Customers'], y = df['Sales']))"
   ]
  },
  {
   "cell_type": "code",
   "execution_count": 11,
   "id": "3b05c7c5-fa2f-4609-9787-d968b824b1a6",
   "metadata": {},
   "outputs": [
    {
     "name": "stdout",
     "output_type": "stream",
     "text": [
      "<matplotlib.collections.PathCollection object at 0x12279c040>\n"
     ]
    },
    {
     "data": {
      "image/png": "[encoded data removed]",
      "text/plain": [
       "<Figure size 640x480 with 1 Axes>"
      ]
     },
     "metadata": {},
     "output_type": "display_data"
    }
   ],
   "source": [
    "# scatter plot, better than previous\n",
    "print(plt.scatter(x = np.log(df['Customers']), y = np.log(df['Sales'])))"
   ]
  },
  {
   "cell_type": "code",
   "execution_count": 12,
   "id": "fe79b74f-c54c-46b3-b002-68b3c8c1602a",
   "metadata": {},
   "outputs": [
    {
     "data": {
      "text/html": [
       "<table class=\"simpletable\">\n",
       "<caption>OLS Regression Results</caption>\n",
       "<tr>\n",
       "  <th>Dep. Variable:</th>      <td>np.log(Sales)</td>  <th>  R-squared:         </th>  <td>   0.719</td> \n",
       "</tr>\n",
       "<tr>\n",
       "  <th>Model:</th>                   <td>OLS</td>       <th>  Adj. R-squared:    </th>  <td>   0.719</td> \n",
       "</tr>\n",
       "<tr>\n",
       "  <th>Method:</th>             <td>Least Squares</td>  <th>  F-statistic:       </th>  <td>6.570e+05</td>\n",
       "</tr>\n",
       "<tr>\n",
       "  <th>Date:</th>             <td>Sun, 16 Oct 2022</td> <th>  Prob (F-statistic):</th>   <td>  0.00</td>  \n",
       "</tr>\n",
       "<tr>\n",
       "  <th>Time:</th>                 <td>16:21:43</td>     <th>  Log-Likelihood:    </th> <td>1.6295e+05</td>\n",
       "</tr>\n",
       "<tr>\n",
       "  <th>No. Observations:</th>      <td>769693</td>      <th>  AIC:               </th> <td>-3.259e+05</td>\n",
       "</tr>\n",
       "<tr>\n",
       "  <th>Df Residuals:</th>          <td>769689</td>      <th>  BIC:               </th> <td>-3.258e+05</td>\n",
       "</tr>\n",
       "<tr>\n",
       "  <th>Df Model:</th>              <td>     3</td>      <th>                     </th>      <td> </td>    \n",
       "</tr>\n",
       "<tr>\n",
       "  <th>Covariance Type:</th>      <td>nonrobust</td>    <th>                     </th>      <td> </td>    \n",
       "</tr>\n",
       "</table>\n",
       "<table class=\"simpletable\">\n",
       "<tr>\n",
       "          <td></td>             <th>coef</th>     <th>std err</th>      <th>t</th>      <th>P>|t|</th>  <th>[0.025</th>    <th>0.975]</th>  \n",
       "</tr>\n",
       "<tr>\n",
       "  <th>Intercept</th>         <td>    3.5587</td> <td>    0.004</td> <td>  843.713</td> <td> 0.000</td> <td>    3.550</td> <td>    3.567</td>\n",
       "</tr>\n",
       "<tr>\n",
       "  <th>np.log(Customers)</th> <td>    0.7855</td> <td>    0.001</td> <td> 1213.187</td> <td> 0.000</td> <td>    0.784</td> <td>    0.787</td>\n",
       "</tr>\n",
       "<tr>\n",
       "  <th>DayOfWeek</th>         <td>   -0.0026</td> <td>    0.000</td> <td>  -19.041</td> <td> 0.000</td> <td>   -0.003</td> <td>   -0.002</td>\n",
       "</tr>\n",
       "<tr>\n",
       "  <th>Promo</th>             <td>    0.1636</td> <td>    0.000</td> <td>  340.060</td> <td> 0.000</td> <td>    0.163</td> <td>    0.165</td>\n",
       "</tr>\n",
       "</table>\n",
       "<table class=\"simpletable\">\n",
       "<tr>\n",
       "  <th>Omnibus:</th>       <td>4451.501</td> <th>  Durbin-Watson:     </th> <td>   1.832</td>\n",
       "</tr>\n",
       "<tr>\n",
       "  <th>Prob(Omnibus):</th>  <td> 0.000</td>  <th>  Jarque-Bera (JB):  </th> <td>4698.028</td>\n",
       "</tr>\n",
       "<tr>\n",
       "  <th>Skew:</th>           <td>-0.165</td>  <th>  Prob(JB):          </th> <td>    0.00</td>\n",
       "</tr>\n",
       "<tr>\n",
       "  <th>Kurtosis:</th>       <td> 3.194</td>  <th>  Cond. No.          </th> <td>    143.</td>\n",
       "</tr>\n",
       "</table><br/><br/>Notes:<br/>[1] Standard Errors assume that the covariance matrix of the errors is correctly specified."
      ],
      "text/plain": [
       "<class 'statsmodels.iolib.summary.Summary'>\n",
       "\"\"\"\n",
       "                            OLS Regression Results                            \n",
       "==============================================================================\n",
       "Dep. Variable:          np.log(Sales)   R-squared:                       0.719\n",
       "Model:                            OLS   Adj. R-squared:                  0.719\n",
       "Method:                 Least Squares   F-statistic:                 6.570e+05\n",
       "Date:                Sun, 16 Oct 2022   Prob (F-statistic):               0.00\n",
       "Time:                        16:21:43   Log-Likelihood:             1.6295e+05\n",
       "No. Observations:              769693   AIC:                        -3.259e+05\n",
       "Df Residuals:                  769689   BIC:                        -3.258e+05\n",
       "Df Model:                           3                                         \n",
       "Covariance Type:            nonrobust                                         \n",
       "=====================================================================================\n",
       "                        coef    std err          t      P>|t|      [0.025      0.975]\n",
       "-------------------------------------------------------------------------------------\n",
       "Intercept             3.5587      0.004    843.713      0.000       3.550       3.567\n",
       "np.log(Customers)     0.7855      0.001   1213.187      0.000       0.784       0.787\n",
       "DayOfWeek            -0.0026      0.000    -19.041      0.000      -0.003      -0.002\n",
       "Promo                 0.1636      0.000    340.060      0.000       0.163       0.165\n",
       "==============================================================================\n",
       "Omnibus:                     4451.501   Durbin-Watson:                   1.832\n",
       "Prob(Omnibus):                  0.000   Jarque-Bera (JB):             4698.028\n",
       "Skew:                          -0.165   Prob(JB):                         0.00\n",
       "Kurtosis:                       3.194   Cond. No.                         143.\n",
       "==============================================================================\n",
       "\n",
       "Notes:\n",
       "[1] Standard Errors assume that the covariance matrix of the errors is correctly specified.\n",
       "\"\"\""
      ]
     },
     "execution_count": 12,
     "metadata": {},
     "output_type": "execute_result"
    }
   ],
   "source": [
    "# OLS regression \n",
    "m = smf.ols(formula = 'np.log(Sales) ~ np.log(Customers) + DayOfWeek + Promo', data = df).fit()\n",
    "m.summary()"
   ]
  },
  {
   "cell_type": "markdown",
   "id": "80502052",
   "metadata": {},
   "source": [
    "We assume that there are both heteroscedastisity (view scatter plot) ans autocorrelation;\n",
    "let us check, using formal tests"
   ]
  },
  {
   "cell_type": "code",
   "execution_count": 13,
   "id": "5916771c",
   "metadata": {},
   "outputs": [
    {
     "data": {
      "text/plain": [
       "(4009.4420098649134, 0.0, 1343.472064461152, 0.0)"
      ]
     },
     "execution_count": 13,
     "metadata": {},
     "output_type": "execute_result"
    }
   ],
   "source": [
    "sms.het_breuschpagan(m.resid, m.model.exog) # there is heteroscedastisity, because p-value < [0.01, 0.05, 0.1]"
   ]
  },
  {
   "cell_type": "code",
   "execution_count": 14,
   "id": "f34dbb3c",
   "metadata": {},
   "outputs": [
    {
     "data": {
      "text/plain": [
       "(5467.782076854592, 0.0, 5508.57089824894, 0.0)"
      ]
     },
     "execution_count": 14,
     "metadata": {},
     "output_type": "execute_result"
    }
   ],
   "source": [
    "sms.acorr_breusch_godfrey(m, nlags=1)# there is autocorrelation, because p-value < [0 .01, 0.05, 0.1]"
   ]
  },
  {
   "cell_type": "markdown",
   "id": "feb2dff1",
   "metadata": {},
   "source": [
    "Let's estimate regression results usinig robust standart error to elimitate influence of heteroscedastisity and autocorrelation"
   ]
  },
  {
   "cell_type": "code",
   "execution_count": 15,
   "id": "00e6dd61",
   "metadata": {},
   "outputs": [
    {
     "data": {
      "text/html": [
       "<table class=\"simpletable\">\n",
       "<caption>OLS Regression Results</caption>\n",
       "<tr>\n",
       "  <th>Dep. Variable:</th>      <td>np.log(Sales)</td>  <th>  R-squared:         </th>  <td>   0.719</td> \n",
       "</tr>\n",
       "<tr>\n",
       "  <th>Model:</th>                   <td>OLS</td>       <th>  Adj. R-squared:    </th>  <td>   0.719</td> \n",
       "</tr>\n",
       "<tr>\n",
       "  <th>Method:</th>             <td>Least Squares</td>  <th>  F-statistic:       </th>  <td>6.043e+05</td>\n",
       "</tr>\n",
       "<tr>\n",
       "  <th>Date:</th>             <td>Sun, 16 Oct 2022</td> <th>  Prob (F-statistic):</th>   <td>  0.00</td>  \n",
       "</tr>\n",
       "<tr>\n",
       "  <th>Time:</th>                 <td>16:21:44</td>     <th>  Log-Likelihood:    </th> <td>1.6295e+05</td>\n",
       "</tr>\n",
       "<tr>\n",
       "  <th>No. Observations:</th>      <td>769693</td>      <th>  AIC:               </th> <td>-3.259e+05</td>\n",
       "</tr>\n",
       "<tr>\n",
       "  <th>Df Residuals:</th>          <td>769689</td>      <th>  BIC:               </th> <td>-3.258e+05</td>\n",
       "</tr>\n",
       "<tr>\n",
       "  <th>Df Model:</th>              <td>     3</td>      <th>                     </th>      <td> </td>    \n",
       "</tr>\n",
       "<tr>\n",
       "  <th>Covariance Type:</th>         <td>HAC</td>       <th>                     </th>      <td> </td>    \n",
       "</tr>\n",
       "</table>\n",
       "<table class=\"simpletable\">\n",
       "<tr>\n",
       "          <td></td>             <th>coef</th>     <th>std err</th>      <th>t</th>      <th>P>|t|</th>  <th>[0.025</th>    <th>0.975]</th>  \n",
       "</tr>\n",
       "<tr>\n",
       "  <th>Intercept</th>         <td>    3.5587</td> <td>    0.004</td> <td>  794.478</td> <td> 0.000</td> <td>    3.550</td> <td>    3.568</td>\n",
       "</tr>\n",
       "<tr>\n",
       "  <th>np.log(Customers)</th> <td>    0.7855</td> <td>    0.001</td> <td> 1146.502</td> <td> 0.000</td> <td>    0.784</td> <td>    0.787</td>\n",
       "</tr>\n",
       "<tr>\n",
       "  <th>DayOfWeek</th>         <td>   -0.0026</td> <td>    0.000</td> <td>  -17.925</td> <td> 0.000</td> <td>   -0.003</td> <td>   -0.002</td>\n",
       "</tr>\n",
       "<tr>\n",
       "  <th>Promo</th>             <td>    0.1636</td> <td>    0.000</td> <td>  329.414</td> <td> 0.000</td> <td>    0.163</td> <td>    0.165</td>\n",
       "</tr>\n",
       "</table>\n",
       "<table class=\"simpletable\">\n",
       "<tr>\n",
       "  <th>Omnibus:</th>       <td>4451.501</td> <th>  Durbin-Watson:     </th> <td>   1.832</td>\n",
       "</tr>\n",
       "<tr>\n",
       "  <th>Prob(Omnibus):</th>  <td> 0.000</td>  <th>  Jarque-Bera (JB):  </th> <td>4698.028</td>\n",
       "</tr>\n",
       "<tr>\n",
       "  <th>Skew:</th>           <td>-0.165</td>  <th>  Prob(JB):          </th> <td>    0.00</td>\n",
       "</tr>\n",
       "<tr>\n",
       "  <th>Kurtosis:</th>       <td> 3.194</td>  <th>  Cond. No.          </th> <td>    143.</td>\n",
       "</tr>\n",
       "</table><br/><br/>Notes:<br/>[1] Standard Errors are heteroscedasticity and autocorrelation robust (HAC) using 1 lags and without small sample correction"
      ],
      "text/plain": [
       "<class 'statsmodels.iolib.summary.Summary'>\n",
       "\"\"\"\n",
       "                            OLS Regression Results                            \n",
       "==============================================================================\n",
       "Dep. Variable:          np.log(Sales)   R-squared:                       0.719\n",
       "Model:                            OLS   Adj. R-squared:                  0.719\n",
       "Method:                 Least Squares   F-statistic:                 6.043e+05\n",
       "Date:                Sun, 16 Oct 2022   Prob (F-statistic):               0.00\n",
       "Time:                        16:21:44   Log-Likelihood:             1.6295e+05\n",
       "No. Observations:              769693   AIC:                        -3.259e+05\n",
       "Df Residuals:                  769689   BIC:                        -3.258e+05\n",
       "Df Model:                           3                                         \n",
       "Covariance Type:                  HAC                                         \n",
       "=====================================================================================\n",
       "                        coef    std err          t      P>|t|      [0.025      0.975]\n",
       "-------------------------------------------------------------------------------------\n",
       "Intercept             3.5587      0.004    794.478      0.000       3.550       3.568\n",
       "np.log(Customers)     0.7855      0.001   1146.502      0.000       0.784       0.787\n",
       "DayOfWeek            -0.0026      0.000    -17.925      0.000      -0.003      -0.002\n",
       "Promo                 0.1636      0.000    329.414      0.000       0.163       0.165\n",
       "==============================================================================\n",
       "Omnibus:                     4451.501   Durbin-Watson:                   1.832\n",
       "Prob(Omnibus):                  0.000   Jarque-Bera (JB):             4698.028\n",
       "Skew:                          -0.165   Prob(JB):                         0.00\n",
       "Kurtosis:                       3.194   Cond. No.                         143.\n",
       "==============================================================================\n",
       "\n",
       "Notes:\n",
       "[1] Standard Errors are heteroscedasticity and autocorrelation robust (HAC) using 1 lags and without small sample correction\n",
       "\"\"\""
      ]
     },
     "execution_count": 15,
     "metadata": {},
     "output_type": "execute_result"
    }
   ],
   "source": [
    "m.get_robustcov_results(cov_type='HAC', maxlags = 1).summary()"
   ]
  },
  {
   "cell_type": "markdown",
   "id": "6c88e70b",
   "metadata": {},
   "source": [
    "After implementing robust standard errors all coefs remain signinficant;\n",
    "R-square is 0.719;\n",
    "Model can be applied;\n",
    "Final model equation looks like this: ln(Sales) = 3.56 + 0.78 * ln(Customers) - 0.0026 * DayOfWeek + 0.164 * Promo"
   ]
  }
 ],
 "metadata": {
  "kernelspec": {
   "display_name": "Python 3 (ipykernel)",
   "language": "python",
   "name": "python3"
  },
  "language_info": {
   "codemirror_mode": {
    "name": "ipython",
    "version": 3
   },
   "file_extension": ".py",
   "mimetype": "text/x-python",
   "name": "python",
   "nbconvert_exporter": "python",
   "pygments_lexer": "ipython3",
   "version": "3.10.7"
  }
 },
 "nbformat": 4,
 "nbformat_minor": 5
}
