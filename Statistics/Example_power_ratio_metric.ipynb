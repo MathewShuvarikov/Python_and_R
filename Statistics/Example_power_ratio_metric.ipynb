{
 "cells": [
  {
   "cell_type": "code",
   "execution_count": 11,
   "id": "dfc1f347-3d2b-4aec-b316-942d6477834e",
   "metadata": {
    "tags": []
   },
   "outputs": [],
   "source": [
    "import pandas as pd\n",
    "import numpy as np\n",
    "from ratio_metric import power_ratio_metric, ratio_t_test\n",
    "from statsmodels.stats.power import TTestPower\n",
    "import warnings \n",
    "warnings.filterwarnings('ignore')"
   ]
  },
  {
   "cell_type": "code",
   "execution_count": 12,
   "id": "11e19618-5696-4a85-b2f2-82782a4cf47c",
   "metadata": {
    "tags": []
   },
   "outputs": [],
   "source": [
    "power = TTestPower()"
   ]
  },
  {
   "cell_type": "code",
   "execution_count": 26,
   "id": "8a311325-4c9e-4e9d-8c75-cc4b1e2971c4",
   "metadata": {
    "tags": []
   },
   "outputs": [],
   "source": [
    "eff = 200\n",
    "s = 10000"
   ]
  },
  {
   "cell_type": "code",
   "execution_count": 27,
   "id": "7e2118a2-3be4-4616-9b12-0014397e6fda",
   "metadata": {
    "tags": []
   },
   "outputs": [
    {
     "data": {
      "text/plain": [
       "19624.072089561156"
      ]
     },
     "execution_count": 27,
     "metadata": {},
     "output_type": "execute_result"
    }
   ],
   "source": [
    "power.solve_power(effect_size=eff/s, alpha=0.05, power=0.8, alternative='two-sided')"
   ]
  },
  {
   "cell_type": "code",
   "execution_count": 28,
   "id": "aa06562e-0372-4868-868e-9e729cc93d98",
   "metadata": {
    "tags": []
   },
   "outputs": [
    {
     "data": {
      "text/plain": [
       "19460.25"
      ]
     },
     "execution_count": 28,
     "metadata": {},
     "output_type": "execute_result"
    }
   ],
   "source": [
    "(1.95+0.84)**2 * s**2/(eff**2)"
   ]
  },
  {
   "cell_type": "code",
   "execution_count": 2,
   "id": "e6c2fe33-b583-424c-afbb-8d2e4df74eb8",
   "metadata": {
    "tags": []
   },
   "outputs": [],
   "source": [
    "# Generate a sample for Delta method\n",
    "np.random.seed(0)\n",
    "df = pd.DataFrame({'X': np.random.normal(loc=100, scale=10, size=2000),\n",
    "                  'Y': np.random.normal(loc=1000, scale=100, size=2000)})"
   ]
  },
  {
   "cell_type": "code",
   "execution_count": 3,
   "id": "94d5e9f5-62a5-4ad6-a833-0aecb4b783d0",
   "metadata": {
    "tags": []
   },
   "outputs": [
    {
     "data": {
      "text/plain": [
       "0.10019333529353686"
      ]
     },
     "execution_count": 3,
     "metadata": {},
     "output_type": "execute_result"
    }
   ],
   "source": [
    "df.X.sum()/df.Y.sum()"
   ]
  },
  {
   "cell_type": "code",
   "execution_count": 4,
   "id": "da4e9cc4-97f0-4e44-a2ff-0e1f7a5f7190",
   "metadata": {
    "tags": []
   },
   "outputs": [
    {
     "data": {
      "text/plain": [
       "3082"
      ]
     },
     "execution_count": 4,
     "metadata": {},
     "output_type": "execute_result"
    }
   ],
   "source": [
    "power_ratio_metric(df=df, X_col='X', Y_col='Y', mde=0.001)"
   ]
  },
  {
   "cell_type": "code",
   "execution_count": 5,
   "id": "417f6e53-afdc-4cac-b42d-31a6cba689f7",
   "metadata": {
    "tags": []
   },
   "outputs": [
    {
     "data": {
      "text/plain": [
       "0.0012415676608243092"
      ]
     },
     "execution_count": 5,
     "metadata": {},
     "output_type": "execute_result"
    }
   ],
   "source": [
    "power_ratio_metric(df=df, X_col='X', Y_col='Y', nobs=2000)"
   ]
  },
  {
   "cell_type": "code",
   "execution_count": null,
   "id": "2b012765-a088-446f-98cf-57926bc41b9b",
   "metadata": {},
   "outputs": [],
   "source": []
  },
  {
   "cell_type": "code",
   "execution_count": 6,
   "id": "40770161-ce19-43bc-8652-b46a6f4615ac",
   "metadata": {
    "tags": []
   },
   "outputs": [],
   "source": [
    "np.random.seed(0)\n",
    "control = pd.DataFrame({'X': np.random.normal(loc=100, scale=10, size=2000),\n",
    "                  'Y': np.random.normal(loc=1000, scale=100, size=2000)})\n",
    "np.random.seed(10)\n",
    "pilot = pd.DataFrame({'X': np.random.normal(loc=140, scale=10, size=2000),\n",
    "                  'Y': np.random.normal(loc=1000, scale=100, size=2000)})"
   ]
  },
  {
   "cell_type": "code",
   "execution_count": 7,
   "id": "e36e967e-f32d-43b0-8fa1-9873c18e96b9",
   "metadata": {},
   "outputs": [
    {
     "name": "stdout",
     "output_type": "stream",
     "text": [
      "{'Mu(X/Y) pilot': 0.14, 'Var(X/Y) pilot': 0.0, 'Mu(X/Y) control': 0.1, 'Var(X/Y) control': 0.0}\n"
     ]
    }
   ],
   "source": [
    "diff,t_stat, p_val = ratio_t_test(control_df=control, pilot_df=pilot, alternative='two-sided', x_col='X', y_col='Y')"
   ]
  }
 ],
 "metadata": {
  "kernelspec": {
   "display_name": "Python 3 (ipykernel)",
   "language": "python",
   "name": "python3"
  },
  "language_info": {
   "codemirror_mode": {
    "name": "ipython",
    "version": 3
   },
   "file_extension": ".py",
   "mimetype": "text/x-python",
   "name": "python",
   "nbconvert_exporter": "python",
   "pygments_lexer": "ipython3",
   "version": "3.10.9"
  }
 },
 "nbformat": 4,
 "nbformat_minor": 5
}
