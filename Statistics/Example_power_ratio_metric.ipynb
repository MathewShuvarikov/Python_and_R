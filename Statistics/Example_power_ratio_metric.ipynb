{
 "cells": [
  {
   "cell_type": "code",
   "execution_count": 1,
   "id": "dfc1f347-3d2b-4aec-b316-942d6477834e",
   "metadata": {
    "tags": []
   },
   "outputs": [],
   "source": [
    "import pandas as pd\n",
    "import numpy as np\n",
    "from power_ratio_metric import power_ratio_metric"
   ]
  },
  {
   "cell_type": "code",
   "execution_count": 2,
   "id": "e6c2fe33-b583-424c-afbb-8d2e4df74eb8",
   "metadata": {
    "tags": []
   },
   "outputs": [],
   "source": [
    "# Generate a sample for Delta method\n",
    "np.random.seed(0)\n",
    "df = pd.DataFrame({'X': np.random.normal(loc=100, scale=10, size=2000),\n",
    "                  'Y': np.random.normal(loc=1000, scale=100, size=2000)})"
   ]
  },
  {
   "cell_type": "code",
   "execution_count": 3,
   "id": "94d5e9f5-62a5-4ad6-a833-0aecb4b783d0",
   "metadata": {
    "tags": []
   },
   "outputs": [
    {
     "data": {
      "text/plain": [
       "0.10019333529353686"
      ]
     },
     "execution_count": 3,
     "metadata": {},
     "output_type": "execute_result"
    }
   ],
   "source": [
    "df.X.sum()/df.Y.sum()"
   ]
  },
  {
   "cell_type": "code",
   "execution_count": 4,
   "id": "da4e9cc4-97f0-4e44-a2ff-0e1f7a5f7190",
   "metadata": {
    "tags": []
   },
   "outputs": [
    {
     "data": {
      "text/plain": [
       "3082"
      ]
     },
     "execution_count": 4,
     "metadata": {},
     "output_type": "execute_result"
    }
   ],
   "source": [
    "power_ratio_metric(df=df, X_col='X', Y_col='Y', mde=0.001)"
   ]
  },
  {
   "cell_type": "code",
   "execution_count": 5,
   "id": "417f6e53-afdc-4cac-b42d-31a6cba689f7",
   "metadata": {
    "tags": []
   },
   "outputs": [
    {
     "data": {
      "text/plain": [
       "0.0010001590582148583"
      ]
     },
     "execution_count": 5,
     "metadata": {},
     "output_type": "execute_result"
    }
   ],
   "source": [
    "power_ratio_metric(df=df, X_col='X', Y_col='Y', nobs=3082)"
   ]
  },
  {
   "cell_type": "code",
   "execution_count": null,
   "id": "e36e967e-f32d-43b0-8fa1-9873c18e96b9",
   "metadata": {},
   "outputs": [],
   "source": []
  }
 ],
 "metadata": {
  "kernelspec": {
   "display_name": "Python 3 (ipykernel)",
   "language": "python",
   "name": "python3"
  },
  "language_info": {
   "codemirror_mode": {
    "name": "ipython",
    "version": 3
   },
   "file_extension": ".py",
   "mimetype": "text/x-python",
   "name": "python",
   "nbconvert_exporter": "python",
   "pygments_lexer": "ipython3",
   "version": "3.10.9"
  }
 },
 "nbformat": 4,
 "nbformat_minor": 5
}
