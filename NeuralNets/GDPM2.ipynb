{
 "cells": [
  {
   "cell_type": "code",
   "execution_count": 1,
   "id": "23974544-7874-44f4-ba9d-7bcc6eb3ca01",
   "metadata": {
    "tags": []
   },
   "outputs": [],
   "source": [
    "import tensorflow as tf\n",
    "import pandas as pd\n",
    "import numpy as np\n",
    "from scipy import interpolate\n",
    "import matplotlib.pyplot as plt\n",
    "import yfinance as yf\n",
    "from sklearn.model_selection import train_test_split\n",
    "from sklearn.preprocessing import MinMaxScaler\n",
    "from sklearn.metrics import mean_absolute_percentage_error\n",
    "import time\n",
    "from datetime import date\n",
    "import random\n",
    "from tensorflow.keras.utils import plot_model"
   ]
  },
  {
   "cell_type": "code",
   "execution_count": 2,
   "id": "d408a4f8-dfdf-4c25-aedd-d8f043126d6b",
   "metadata": {
    "tags": []
   },
   "outputs": [
    {
     "name": "stdout",
     "output_type": "stream",
     "text": [
      "CPU times: total: 0 ns\n",
      "Wall time: 2.48 ms\n",
      "<class 'pandas.core.frame.DataFrame'>\n",
      "RangeIndex: 306 entries, 0 to 305\n",
      "Data columns (total 2 columns):\n",
      " #   Column  Non-Null Count  Dtype         \n",
      "---  ------  --------------  -----         \n",
      " 0   DATE    306 non-null    datetime64[ns]\n",
      " 1   GDP     306 non-null    float64       \n",
      "dtypes: datetime64[ns](1), float64(1)\n",
      "memory usage: 4.9 KB\n"
     ]
    },
    {
     "data": {
      "text/html": [
       "<div>\n",
       "<style scoped>\n",
       "    .dataframe tbody tr th:only-of-type {\n",
       "        vertical-align: middle;\n",
       "    }\n",
       "\n",
       "    .dataframe tbody tr th {\n",
       "        vertical-align: top;\n",
       "    }\n",
       "\n",
       "    .dataframe thead th {\n",
       "        text-align: right;\n",
       "    }\n",
       "</style>\n",
       "<table border=\"1\" class=\"dataframe\">\n",
       "  <thead>\n",
       "    <tr style=\"text-align: right;\">\n",
       "      <th></th>\n",
       "      <th>DATE</th>\n",
       "      <th>GDP</th>\n",
       "    </tr>\n",
       "  </thead>\n",
       "  <tbody>\n",
       "    <tr>\n",
       "      <th>0</th>\n",
       "      <td>1947-01-01</td>\n",
       "      <td>243.164</td>\n",
       "    </tr>\n",
       "    <tr>\n",
       "      <th>1</th>\n",
       "      <td>1947-04-01</td>\n",
       "      <td>245.968</td>\n",
       "    </tr>\n",
       "    <tr>\n",
       "      <th>2</th>\n",
       "      <td>1947-07-01</td>\n",
       "      <td>249.585</td>\n",
       "    </tr>\n",
       "    <tr>\n",
       "      <th>3</th>\n",
       "      <td>1947-10-01</td>\n",
       "      <td>259.745</td>\n",
       "    </tr>\n",
       "    <tr>\n",
       "      <th>4</th>\n",
       "      <td>1948-01-01</td>\n",
       "      <td>265.742</td>\n",
       "    </tr>\n",
       "  </tbody>\n",
       "</table>\n",
       "</div>"
      ],
      "text/plain": [
       "        DATE      GDP\n",
       "0 1947-01-01  243.164\n",
       "1 1947-04-01  245.968\n",
       "2 1947-07-01  249.585\n",
       "3 1947-10-01  259.745\n",
       "4 1948-01-01  265.742"
      ]
     },
     "execution_count": 2,
     "metadata": {},
     "output_type": "execute_result"
    }
   ],
   "source": [
    "# Прочитали файл с американским ВВП\n",
    "%time gdp = pd.read_csv(r\"C:\\Users\\shuva\\Downloads\\GDP.csv\")\n",
    "gdp['DATE'] = pd.to_datetime(gdp['DATE'])\n",
    "gdp.info()\n",
    "gdp.head()"
   ]
  },
  {
   "cell_type": "code",
   "execution_count": 3,
   "id": "91572001-e229-4b4a-8d47-608e1a4dacf2",
   "metadata": {
    "tags": []
   },
   "outputs": [
    {
     "name": "stdout",
     "output_type": "stream",
     "text": [
      "<class 'pandas.core.frame.DataFrame'>\n",
      "Index: 258 entries, 0 to 257\n",
      "Data columns (total 2 columns):\n",
      " #   Column  Non-Null Count  Dtype         \n",
      "---  ------  --------------  -----         \n",
      " 0   DATE    258 non-null    datetime64[ns]\n",
      " 1   M2SL    258 non-null    float64       \n",
      "dtypes: datetime64[ns](1), float64(1)\n",
      "memory usage: 6.0 KB\n"
     ]
    },
    {
     "data": {
      "text/html": [
       "<div>\n",
       "<style scoped>\n",
       "    .dataframe tbody tr th:only-of-type {\n",
       "        vertical-align: middle;\n",
       "    }\n",
       "\n",
       "    .dataframe tbody tr th {\n",
       "        vertical-align: top;\n",
       "    }\n",
       "\n",
       "    .dataframe thead th {\n",
       "        text-align: right;\n",
       "    }\n",
       "</style>\n",
       "<table border=\"1\" class=\"dataframe\">\n",
       "  <thead>\n",
       "    <tr style=\"text-align: right;\">\n",
       "      <th></th>\n",
       "      <th>DATE</th>\n",
       "      <th>M2SL</th>\n",
       "    </tr>\n",
       "  </thead>\n",
       "  <tbody>\n",
       "    <tr>\n",
       "      <th>0</th>\n",
       "      <td>1959-01-01</td>\n",
       "      <td>289.2</td>\n",
       "    </tr>\n",
       "    <tr>\n",
       "      <th>1</th>\n",
       "      <td>1959-04-01</td>\n",
       "      <td>294.1</td>\n",
       "    </tr>\n",
       "    <tr>\n",
       "      <th>2</th>\n",
       "      <td>1959-07-01</td>\n",
       "      <td>296.7</td>\n",
       "    </tr>\n",
       "    <tr>\n",
       "      <th>3</th>\n",
       "      <td>1959-10-01</td>\n",
       "      <td>297.8</td>\n",
       "    </tr>\n",
       "    <tr>\n",
       "      <th>4</th>\n",
       "      <td>1960-01-01</td>\n",
       "      <td>299.3</td>\n",
       "    </tr>\n",
       "  </tbody>\n",
       "</table>\n",
       "</div>"
      ],
      "text/plain": [
       "        DATE   M2SL\n",
       "0 1959-01-01  289.2\n",
       "1 1959-04-01  294.1\n",
       "2 1959-07-01  296.7\n",
       "3 1959-10-01  297.8\n",
       "4 1960-01-01  299.3"
      ]
     },
     "execution_count": 3,
     "metadata": {},
     "output_type": "execute_result"
    }
   ],
   "source": [
    "# Прочитали файл с американской М2\n",
    "m2 = pd.read_csv(r\"C:\\Users\\shuva\\Downloads\\M2SL.csv\")\n",
    "m2['DATE'] = pd.to_datetime(m2['DATE'])\n",
    "m2['M2SL'] = pd.to_numeric(m2['M2SL'],errors='coerce')\n",
    "m2 = m2.dropna()\n",
    "m2.info()\n",
    "m2.head()"
   ]
  },
  {
   "cell_type": "code",
   "execution_count": 4,
   "id": "f8369b68-f944-4582-8851-19cd61bf843f",
   "metadata": {
    "tags": []
   },
   "outputs": [
    {
     "name": "stdout",
     "output_type": "stream",
     "text": [
      "        DATE      GDP   M2SL\n",
      "0 1959-01-01  510.330  289.2\n",
      "1 1959-04-01  522.653  294.1\n",
      "2 1959-07-01  525.034  296.7\n",
      "3 1959-10-01  528.600  297.8\n",
      "4 1960-01-01  542.648  299.3\n",
      "          DATE        GDP     M2SL\n",
      "253 2022-04-01  25248.476  21666.4\n",
      "254 2022-07-01  25723.941  21525.2\n",
      "255 2022-10-01  26137.992  21357.6\n",
      "256 2023-01-01  26529.774  20876.1\n",
      "257 2023-04-01  26798.605  20890.0\n"
     ]
    }
   ],
   "source": [
    "# merge two files\n",
    "df = pd.merge(gdp, m2, on='DATE')\n",
    "print(df.head())\n",
    "print(df.tail())"
   ]
  },
  {
   "cell_type": "code",
   "execution_count": 5,
   "id": "66bc3b8a-32a0-4bfe-957d-5da26c1a03ac",
   "metadata": {
    "tags": []
   },
   "outputs": [
    {
     "data": {
      "text/plain": [
       "[<matplotlib.lines.Line2D at 0x23d7d5dec50>]"
      ]
     },
     "execution_count": 5,
     "metadata": {},
     "output_type": "execute_result"
    },
    {
     "data": {
      "image/png": "[encoded data removed]",
      "text/plain": [
       "<Figure size 640x480 with 1 Axes>"
      ]
     },
     "metadata": {},
     "output_type": "display_data"
    }
   ],
   "source": [
    "# draw logs of gdp and m2\n",
    "plt.plot(df['DATE'],np.log(df['GDP']))\n",
    "plt.plot(df['DATE'],np.log(df['M2SL']))"
   ]
  },
  {
   "cell_type": "code",
   "execution_count": 6,
   "id": "0129c806-9c9c-46d3-b2ad-1d13ff54acc1",
   "metadata": {
    "tags": []
   },
   "outputs": [
    {
     "data": {
      "text/html": [
       "<div>\n",
       "<style scoped>\n",
       "    .dataframe tbody tr th:only-of-type {\n",
       "        vertical-align: middle;\n",
       "    }\n",
       "\n",
       "    .dataframe tbody tr th {\n",
       "        vertical-align: top;\n",
       "    }\n",
       "\n",
       "    .dataframe thead th {\n",
       "        text-align: right;\n",
       "    }\n",
       "</style>\n",
       "<table border=\"1\" class=\"dataframe\">\n",
       "  <thead>\n",
       "    <tr style=\"text-align: right;\">\n",
       "      <th></th>\n",
       "      <th>GDP</th>\n",
       "      <th>M2SL</th>\n",
       "    </tr>\n",
       "  </thead>\n",
       "  <tbody>\n",
       "    <tr>\n",
       "      <th>count</th>\n",
       "      <td>258.000000</td>\n",
       "      <td>258.000000</td>\n",
       "    </tr>\n",
       "    <tr>\n",
       "      <th>mean</th>\n",
       "      <td>8237.339562</td>\n",
       "      <td>5092.367829</td>\n",
       "    </tr>\n",
       "    <tr>\n",
       "      <th>std</th>\n",
       "      <td>7171.633242</td>\n",
       "      <td>5351.473170</td>\n",
       "    </tr>\n",
       "    <tr>\n",
       "      <th>min</th>\n",
       "      <td>510.330000</td>\n",
       "      <td>289.200000</td>\n",
       "    </tr>\n",
       "    <tr>\n",
       "      <th>25%</th>\n",
       "      <td>1625.050250</td>\n",
       "      <td>934.500000</td>\n",
       "    </tr>\n",
       "    <tr>\n",
       "      <th>50%</th>\n",
       "      <td>6081.020000</td>\n",
       "      <td>3336.900000</td>\n",
       "    </tr>\n",
       "    <tr>\n",
       "      <th>75%</th>\n",
       "      <td>14339.839750</td>\n",
       "      <td>7248.725000</td>\n",
       "    </tr>\n",
       "    <tr>\n",
       "      <th>max</th>\n",
       "      <td>26798.605000</td>\n",
       "      <td>21697.500000</td>\n",
       "    </tr>\n",
       "  </tbody>\n",
       "</table>\n",
       "</div>"
      ],
      "text/plain": [
       "                GDP          M2SL\n",
       "count    258.000000    258.000000\n",
       "mean    8237.339562   5092.367829\n",
       "std     7171.633242   5351.473170\n",
       "min      510.330000    289.200000\n",
       "25%     1625.050250    934.500000\n",
       "50%     6081.020000   3336.900000\n",
       "75%    14339.839750   7248.725000\n",
       "max    26798.605000  21697.500000"
      ]
     },
     "execution_count": 6,
     "metadata": {},
     "output_type": "execute_result"
    }
   ],
   "source": [
    "# descriptive statistics\n",
    "df[['GDP', 'M2SL']].describe()"
   ]
  },
  {
   "cell_type": "code",
   "execution_count": 7,
   "id": "1783211a-36af-4090-b052-de06487c2719",
   "metadata": {
    "tags": []
   },
   "outputs": [],
   "source": [
    "# logs of variables\n",
    "df[['GDP', 'M2SL']] = np.log(df[['GDP', 'M2SL']])\n",
    "scaler1 = MinMaxScaler()\n",
    "scaler2 = MinMaxScaler()\n",
    "df[['GDP']] = scaler1.fit_transform(df[['GDP']])\n",
    "df[['M2SL']] = scaler2.fit_transform(df[['M2SL']])"
   ]
  },
  {
   "cell_type": "code",
   "execution_count": 8,
   "id": "c8c88762-3045-489a-abbb-08af079145ce",
   "metadata": {
    "tags": []
   },
   "outputs": [],
   "source": [
    "# add lags\n",
    "for i in range(1, 5):\n",
    "    df[f'GDP_Lag{i}'] = df['GDP'].shift(i)\n",
    "    df[f'M2_Lag{i}'] = df['M2SL'].shift(i)\n",
    "df = df.dropna()"
   ]
  },
  {
   "cell_type": "code",
   "execution_count": 9,
   "id": "5ab15c8a-8319-47e1-9c5f-edaf80041e77",
   "metadata": {
    "tags": []
   },
   "outputs": [],
   "source": [
    "# calculate penalty for loss function\n",
    "n = df.shape[0]\n",
    "pen = 1/np.array(range(n+1, 0, -1))"
   ]
  },
  {
   "cell_type": "code",
   "execution_count": 10,
   "id": "7f4b68d4-0bce-48eb-b747-a43ec7249f6a",
   "metadata": {
    "tags": []
   },
   "outputs": [],
   "source": [
    "# Create model structure\n",
    "model = tf.keras.Sequential([ \n",
    "    tf.keras.layers.Dense(3, activation=\"relu\"),\n",
    "    #tf.keras.layers.Dense(3, activation=\"tanh\"),\n",
    "    tf.keras.layers.Dense(1, activation='sigmoid')\n",
    "])\n",
    "\n",
    "model.compile(optimizer='adam', loss='mse', loss_weights=pen)"
   ]
  },
  {
   "cell_type": "code",
   "execution_count": 11,
   "id": "c5ebacc3-c790-4cd7-a4b9-6eb2945715a0",
   "metadata": {
    "tags": []
   },
   "outputs": [],
   "source": [
    "X = df.drop(columns=['GDP', 'M2SL', 'DATE'])\n",
    "y = df['GDP']\n",
    "y.index = range(0, y.shape[0])"
   ]
  },
  {
   "cell_type": "code",
   "execution_count": 12,
   "id": "d0292ee0-92ec-4a25-8bbb-2957fafdeb6a",
   "metadata": {
    "tags": []
   },
   "outputs": [],
   "source": [
    "# train_test_samplle\n",
    "test_obs = 2\n",
    "y_train = y[range(0, df.shape[0]-test_obs)].copy()\n",
    "X_train = X.iloc[range(0, df.shape[0]-test_obs),:].copy()\n",
    "y_test = y[range(df.shape[0]-test_obs, df.shape[0])].copy()\n",
    "X_test = X.iloc[range(df.shape[0]-test_obs, df.shape[0]),:].copy()"
   ]
  },
  {
   "cell_type": "code",
   "execution_count": 13,
   "id": "884248eb-9e3b-4526-860c-185e3f999158",
   "metadata": {
    "tags": []
   },
   "outputs": [],
   "source": [
    "# set seed\n",
    "def set_seed(seed: int = 42) -> None:\n",
    "    random.seed(seed)\n",
    "    np.random.seed(seed)\n",
    "    tf.random.set_seed(seed)\n",
    "    tf.experimental.numpy.random.seed(seed)\n",
    "    print(f\"Random seed set as {seed}\")"
   ]
  },
  {
   "cell_type": "code",
   "execution_count": 14,
   "id": "c19d7212-abc0-45d4-9e41-596fddbf7cee",
   "metadata": {
    "tags": []
   },
   "outputs": [
    {
     "name": "stdout",
     "output_type": "stream",
     "text": [
      "Random seed set as 42\n",
      "8/8 [==============================] - 0s 3ms/step - loss: 0.0026\n",
      "CPU times: total: 297 ms\n",
      "Wall time: 417 ms\n"
     ]
    },
    {
     "data": {
      "text/plain": [
       "<keras.callbacks.History at 0x23d7d7cb160>"
      ]
     },
     "execution_count": 14,
     "metadata": {},
     "output_type": "execute_result"
    }
   ],
   "source": [
    "set_seed()\n",
    "%time model.fit(X_train, y_train)"
   ]
  },
  {
   "cell_type": "code",
   "execution_count": 15,
   "id": "32d58458-547e-4b17-8ca2-c0a63c7573e6",
   "metadata": {
    "tags": []
   },
   "outputs": [
    {
     "name": "stdout",
     "output_type": "stream",
     "text": [
      "Model: \"sequential\"\n",
      "_________________________________________________________________\n",
      " Layer (type)                Output Shape              Param #   \n",
      "=================================================================\n",
      " dense (Dense)               (None, 3)                 27        \n",
      "                                                                 \n",
      " dense_1 (Dense)             (None, 1)                 4         \n",
      "                                                                 \n",
      "=================================================================\n",
      "Total params: 31\n",
      "Trainable params: 31\n",
      "Non-trainable params: 0\n",
      "_________________________________________________________________\n"
     ]
    }
   ],
   "source": [
    "model.summary()"
   ]
  },
  {
   "cell_type": "code",
   "execution_count": 16,
   "id": "cc8dfeb2-0e36-4665-aaa8-2ecc1b3febd4",
   "metadata": {
    "tags": []
   },
   "outputs": [
    {
     "name": "stdout",
     "output_type": "stream",
     "text": [
      "1/1 [==============================] - 0s 132ms/step\n",
      "0.0523653295753332\n"
     ]
    }
   ],
   "source": [
    "p = np.exp(scaler1.inverse_transform(model.predict(X_test)))\n",
    "y_test = np.exp(scaler1.inverse_transform(np.array(y_test).reshape(1, -1)))\n",
    "print(mean_absolute_percentage_error(y_test.reshape(-1, 1), p.reshape(-1, 1)))"
   ]
  },
  {
   "cell_type": "code",
   "execution_count": 17,
   "id": "bff903ae-cb15-45fb-830e-0186aeca6175",
   "metadata": {
    "tags": []
   },
   "outputs": [
    {
     "name": "stdout",
     "output_type": "stream",
     "text": [
      "[[25264.33007812 26529.774     ]\n",
      " [25270.23632812 26798.605     ]]\n"
     ]
    }
   ],
   "source": [
    "result_array = np.concatenate((p.reshape(-1, 1), y_test.reshape(-1, 1)), axis=1)\n",
    "print(result_array)"
   ]
  },
  {
   "cell_type": "code",
   "execution_count": 18,
   "id": "36655dc1-e092-4c68-934a-580fbcd304b6",
   "metadata": {
    "tags": []
   },
   "outputs": [
    {
     "data": {
      "image/png": "[encoded data removed]",
      "text/plain": [
       "<IPython.core.display.Image object>"
      ]
     },
     "execution_count": 18,
     "metadata": {},
     "output_type": "execute_result"
    }
   ],
   "source": [
    "plot_model(model,show_shapes=True, show_layer_names=True,show_layer_activations=True )"
   ]
  }
 ],
 "metadata": {
  "kernelspec": {
   "display_name": "Python 3 (ipykernel)",
   "language": "python",
   "name": "python3"
  },
  "language_info": {
   "codemirror_mode": {
    "name": "ipython",
    "version": 3
   },
   "file_extension": ".py",
   "mimetype": "text/x-python",
   "name": "python",
   "nbconvert_exporter": "python",
   "pygments_lexer": "ipython3",
   "version": "3.10.9"
  }
 },
 "nbformat": 4,
 "nbformat_minor": 5
}
